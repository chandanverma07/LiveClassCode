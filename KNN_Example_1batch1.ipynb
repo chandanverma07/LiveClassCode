{
 "cells": [
  {
   "cell_type": "code",
   "execution_count": 1,
   "id": "9f1ec50d",
   "metadata": {},
   "outputs": [],
   "source": [
    "import pandas as pd\n",
    "import numpy as np\n",
    "from matplotlib import pyplot as plt\n",
    "import seaborn as sb"
   ]
  },
  {
   "cell_type": "code",
   "execution_count": 2,
   "id": "0d88f62b",
   "metadata": {},
   "outputs": [],
   "source": [
    "#data collection"
   ]
  },
  {
   "cell_type": "code",
   "execution_count": 3,
   "id": "c1ae359d",
   "metadata": {},
   "outputs": [],
   "source": [
    "x_feature=np.array([[1,9],[2,8],[3,7],[2,8],[6,4],[9,1],[8,2],[9,1],[1,1],[5,5]])\n",
    "y_target=np.array([\"Sour\",\"Sour\",\"Sour\",\"Sour\",\"Sweet\",\"Sweet\",\"Sweet\",\"Sweet\",\"None\",\"Sour\"])"
   ]
  },
  {
   "cell_type": "code",
   "execution_count": 4,
   "id": "a71f56c3",
   "metadata": {},
   "outputs": [],
   "source": [
    "#x_feature.shape\n",
    "#y_target.shape\n",
    "#list(x_feature[:,0])"
   ]
  },
  {
   "cell_type": "code",
   "execution_count": 5,
   "id": "44ec133b",
   "metadata": {},
   "outputs": [],
   "source": [
    "data=pd.DataFrame({\"Sweet\":list(x_feature[:,0]),\"Sour\":list(x_feature[:,1]),\"Fruit Type\":list(y_target)})"
   ]
  },
  {
   "cell_type": "code",
   "execution_count": 6,
   "id": "a2a67b36",
   "metadata": {},
   "outputs": [],
   "source": [
    "#sb.countplot(x=\"Fruit Type\",data=data)\n",
    "#plt.show()"
   ]
  },
  {
   "cell_type": "code",
   "execution_count": 7,
   "id": "5da5dbe6",
   "metadata": {},
   "outputs": [],
   "source": [
    "#Training"
   ]
  },
  {
   "cell_type": "code",
   "execution_count": 8,
   "id": "bbc9a95c",
   "metadata": {},
   "outputs": [],
   "source": [
    "from sklearn.neighbors import KNeighborsClassifier"
   ]
  },
  {
   "cell_type": "code",
   "execution_count": 13,
   "id": "d19f605d",
   "metadata": {},
   "outputs": [],
   "source": [
    "knn_trainer=KNeighborsClassifier(n_neighbors=1)"
   ]
  },
  {
   "cell_type": "code",
   "execution_count": 14,
   "id": "52907b89",
   "metadata": {},
   "outputs": [],
   "source": [
    "knn_learner=knn_trainer.fit(x_feature,y_target)"
   ]
  },
  {
   "cell_type": "code",
   "execution_count": 15,
   "id": "4af90701",
   "metadata": {},
   "outputs": [
    {
     "data": {
      "text/plain": [
       "array(['Sweet'], dtype='<U5')"
      ]
     },
     "execution_count": 15,
     "metadata": {},
     "output_type": "execute_result"
    }
   ],
   "source": [
    "knn_learner.predict([[7,3]])"
   ]
  },
  {
   "cell_type": "code",
   "execution_count": 18,
   "id": "f4deb4ed",
   "metadata": {},
   "outputs": [
    {
     "data": {
      "text/plain": [
       "array(['None'], dtype='<U5')"
      ]
     },
     "execution_count": 18,
     "metadata": {},
     "output_type": "execute_result"
    }
   ],
   "source": [
    "knn_learner.predict([[2,2]])"
   ]
  },
  {
   "cell_type": "code",
   "execution_count": null,
   "id": "c9b8180d",
   "metadata": {},
   "outputs": [],
   "source": []
  }
 ],
 "metadata": {
  "kernelspec": {
   "display_name": "Python 3 (ipykernel)",
   "language": "python",
   "name": "python3"
  },
  "language_info": {
   "codemirror_mode": {
    "name": "ipython",
    "version": 3
   },
   "file_extension": ".py",
   "mimetype": "text/x-python",
   "name": "python",
   "nbconvert_exporter": "python",
   "pygments_lexer": "ipython3",
   "version": "3.9.12"
  }
 },
 "nbformat": 4,
 "nbformat_minor": 5
}
