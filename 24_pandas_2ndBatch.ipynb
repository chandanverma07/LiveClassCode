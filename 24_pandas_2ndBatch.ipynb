{
 "cells": [
  {
   "cell_type": "code",
   "execution_count": 15,
   "id": "479d6de0",
   "metadata": {},
   "outputs": [],
   "source": [
    "import numpy as np\n",
    "import pandas as pd"
   ]
  },
  {
   "cell_type": "code",
   "execution_count": 16,
   "id": "636d58ec",
   "metadata": {},
   "outputs": [],
   "source": [
    "#print(np.__version__)\n",
    "#print(pd.__version__)"
   ]
  },
  {
   "cell_type": "markdown",
   "id": "13ed2284",
   "metadata": {},
   "source": [
    "### Series 1D array (list+index)"
   ]
  },
  {
   "cell_type": "code",
   "execution_count": 17,
   "id": "ae8258e2",
   "metadata": {},
   "outputs": [],
   "source": [
    "list_=[11,12,13]\n",
    "#print(type(list_))"
   ]
  },
  {
   "cell_type": "code",
   "execution_count": 18,
   "id": "2008198d",
   "metadata": {},
   "outputs": [],
   "source": [
    "#list_"
   ]
  },
  {
   "cell_type": "code",
   "execution_count": 19,
   "id": "8bcc10a5",
   "metadata": {},
   "outputs": [],
   "source": [
    "ser=pd.Series(list_,index=[\"Mon\",\"Tue\",\"Wed\"])"
   ]
  },
  {
   "cell_type": "code",
   "execution_count": 20,
   "id": "682f8399",
   "metadata": {},
   "outputs": [],
   "source": [
    "#print(type(ser))"
   ]
  },
  {
   "cell_type": "code",
   "execution_count": 21,
   "id": "068ae8a0",
   "metadata": {},
   "outputs": [
    {
     "data": {
      "text/plain": [
       "Mon    11\n",
       "Tue    12\n",
       "Wed    13\n",
       "dtype: int64"
      ]
     },
     "execution_count": 21,
     "metadata": {},
     "output_type": "execute_result"
    },
    {
     "data": {
      "text/plain": [
       "Mon    11\n",
       "Tue    12\n",
       "Wed    13\n",
       "dtype: int64"
      ]
     },
     "execution_count": 21,
     "metadata": {},
     "output_type": "execute_result"
    }
   ],
   "source": [
    "ser"
   ]
  },
  {
   "cell_type": "markdown",
   "id": "e8930ffd",
   "metadata": {},
   "source": [
    "ser.values"
   ]
  },
  {
   "cell_type": "markdown",
   "id": "97d9d315",
   "metadata": {},
   "source": [
    "#### data frame (2d array)"
   ]
  },
  {
   "cell_type": "code",
   "execution_count": 22,
   "id": "91d3584b",
   "metadata": {},
   "outputs": [],
   "source": [
    "my_d={\"Name\":[\"Aman\",\"Amit\"],\"Age\":[12,13],\"Ed\":[\"Phd\",\"M.tech\"]}"
   ]
  },
  {
   "cell_type": "code",
   "execution_count": 23,
   "id": "43ae9f83",
   "metadata": {},
   "outputs": [
    {
     "data": {
      "text/plain": [
       "{'Name': ['Aman', 'Amit'], 'Age': [12, 13], 'Ed': ['Phd', 'M.tech']}"
      ]
     },
     "execution_count": 23,
     "metadata": {},
     "output_type": "execute_result"
    },
    {
     "data": {
      "text/plain": [
       "{'Name': ['Aman', 'Amit'], 'Age': [12, 13], 'Ed': ['Phd', 'M.tech']}"
      ]
     },
     "execution_count": 23,
     "metadata": {},
     "output_type": "execute_result"
    }
   ],
   "source": [
    "my_d"
   ]
  },
  {
   "cell_type": "code",
   "execution_count": 24,
   "id": "54255486",
   "metadata": {},
   "outputs": [],
   "source": [
    "mydf=pd.DataFrame(my_d)"
   ]
  },
  {
   "cell_type": "code",
   "execution_count": 25,
   "id": "d7fe11a2",
   "metadata": {},
   "outputs": [
    {
     "data": {
      "text/html": [
       "<div>\n",
       "<style scoped>\n",
       "    .dataframe tbody tr th:only-of-type {\n",
       "        vertical-align: middle;\n",
       "    }\n",
       "\n",
       "    .dataframe tbody tr th {\n",
       "        vertical-align: top;\n",
       "    }\n",
       "\n",
       "    .dataframe thead th {\n",
       "        text-align: right;\n",
       "    }\n",
       "</style>\n",
       "<table border=\"1\" class=\"dataframe\">\n",
       "  <thead>\n",
       "    <tr style=\"text-align: right;\">\n",
       "      <th></th>\n",
       "      <th>Name</th>\n",
       "      <th>Age</th>\n",
       "      <th>Ed</th>\n",
       "    </tr>\n",
       "  </thead>\n",
       "  <tbody>\n",
       "    <tr>\n",
       "      <th>0</th>\n",
       "      <td>Aman</td>\n",
       "      <td>12</td>\n",
       "      <td>Phd</td>\n",
       "    </tr>\n",
       "    <tr>\n",
       "      <th>1</th>\n",
       "      <td>Amit</td>\n",
       "      <td>13</td>\n",
       "      <td>M.tech</td>\n",
       "    </tr>\n",
       "  </tbody>\n",
       "</table>\n",
       "</div>"
      ],
      "text/plain": [
       "   Name  Age      Ed\n",
       "0  Aman   12     Phd\n",
       "1  Amit   13  M.tech"
      ]
     },
     "execution_count": 25,
     "metadata": {},
     "output_type": "execute_result"
    },
    {
     "data": {
      "text/html": [
       "<div>\n",
       "<style scoped>\n",
       "    .dataframe tbody tr th:only-of-type {\n",
       "        vertical-align: middle;\n",
       "    }\n",
       "\n",
       "    .dataframe tbody tr th {\n",
       "        vertical-align: top;\n",
       "    }\n",
       "\n",
       "    .dataframe thead th {\n",
       "        text-align: right;\n",
       "    }\n",
       "</style>\n",
       "<table border=\"1\" class=\"dataframe\">\n",
       "  <thead>\n",
       "    <tr style=\"text-align: right;\">\n",
       "      <th></th>\n",
       "      <th>Name</th>\n",
       "      <th>Age</th>\n",
       "      <th>Ed</th>\n",
       "    </tr>\n",
       "  </thead>\n",
       "  <tbody>\n",
       "    <tr>\n",
       "      <th>0</th>\n",
       "      <td>Aman</td>\n",
       "      <td>12</td>\n",
       "      <td>Phd</td>\n",
       "    </tr>\n",
       "    <tr>\n",
       "      <th>1</th>\n",
       "      <td>Amit</td>\n",
       "      <td>13</td>\n",
       "      <td>M.tech</td>\n",
       "    </tr>\n",
       "  </tbody>\n",
       "</table>\n",
       "</div>"
      ],
      "text/plain": [
       "   Name  Age      Ed\n",
       "0  Aman   12     Phd\n",
       "1  Amit   13  M.tech"
      ]
     },
     "execution_count": 25,
     "metadata": {},
     "output_type": "execute_result"
    }
   ],
   "source": [
    "mydf"
   ]
  },
  {
   "cell_type": "code",
   "execution_count": 26,
   "id": "d3af4257",
   "metadata": {},
   "outputs": [
    {
     "data": {
      "text/plain": [
       "Index(['Name', 'Age', 'Ed'], dtype='object')"
      ]
     },
     "execution_count": 26,
     "metadata": {},
     "output_type": "execute_result"
    },
    {
     "data": {
      "text/plain": [
       "Index(['Name', 'Age', 'Ed'], dtype='object')"
      ]
     },
     "execution_count": 26,
     "metadata": {},
     "output_type": "execute_result"
    }
   ],
   "source": [
    "#mydf.keys()\n",
    "mydf.columns"
   ]
  },
  {
   "cell_type": "code",
   "execution_count": 27,
   "id": "73ba9e1e",
   "metadata": {},
   "outputs": [
    {
     "data": {
      "text/plain": [
       "0    Aman\n",
       "1    Amit\n",
       "Name: Name, dtype: object"
      ]
     },
     "execution_count": 27,
     "metadata": {},
     "output_type": "execute_result"
    },
    {
     "data": {
      "text/plain": [
       "0    Aman\n",
       "1    Amit\n",
       "Name: Name, dtype: object"
      ]
     },
     "execution_count": 27,
     "metadata": {},
     "output_type": "execute_result"
    }
   ],
   "source": [
    "mydf.Name"
   ]
  },
  {
   "cell_type": "code",
   "execution_count": 28,
   "id": "ae4be147",
   "metadata": {},
   "outputs": [
    {
     "data": {
      "text/plain": [
       "0    Aman\n",
       "1    Amit\n",
       "Name: Name, dtype: object"
      ]
     },
     "execution_count": 28,
     "metadata": {},
     "output_type": "execute_result"
    },
    {
     "data": {
      "text/plain": [
       "0    Aman\n",
       "1    Amit\n",
       "Name: Name, dtype: object"
      ]
     },
     "execution_count": 28,
     "metadata": {},
     "output_type": "execute_result"
    }
   ],
   "source": [
    "mydf[\"Name\"]"
   ]
  },
  {
   "cell_type": "code",
   "execution_count": null,
   "id": "67aef2c7",
   "metadata": {},
   "outputs": [],
   "source": []
  }
 ],
 "metadata": {
  "kernelspec": {
   "display_name": "Python 3 (ipykernel)",
   "language": "python",
   "name": "python3"
  },
  "language_info": {
   "codemirror_mode": {
    "name": "ipython",
    "version": 3
   },
   "file_extension": ".py",
   "mimetype": "text/x-python",
   "name": "python",
   "nbconvert_exporter": "python",
   "pygments_lexer": "ipython3",
   "version": "3.9.12"
  }
 },
 "nbformat": 4,
 "nbformat_minor": 5
}
