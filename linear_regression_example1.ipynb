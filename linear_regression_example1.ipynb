{
 "cells": [
  {
   "cell_type": "code",
   "execution_count": 1,
   "id": "4348d84a",
   "metadata": {},
   "outputs": [],
   "source": [
    "import numpy as np\n",
    "import pandas as pd\n",
    "import seaborn as sb\n",
    "from matplotlib import pyplot as plt"
   ]
  },
  {
   "cell_type": "code",
   "execution_count": 2,
   "id": "d153b0f1",
   "metadata": {},
   "outputs": [],
   "source": [
    "X_input=np.array([[1],[2],[3],[4],[5]])\n",
    "Y_out=np.array([1,3,2,3,5])"
   ]
  },
  {
   "cell_type": "code",
   "execution_count": 3,
   "id": "eba504ff",
   "metadata": {},
   "outputs": [],
   "source": [
    "data=pd.DataFrame({\"X\":list(X_input[:,0]),\"Y\":list(Y_out)})"
   ]
  },
  {
   "cell_type": "code",
   "execution_count": 9,
   "id": "e2a2ba22",
   "metadata": {},
   "outputs": [],
   "source": [
    "#data.corr()"
   ]
  },
  {
   "cell_type": "code",
   "execution_count": 11,
   "id": "7dc8d819",
   "metadata": {},
   "outputs": [],
   "source": [
    "#sb.heatmap(data.corr())\n",
    "#plt.show()"
   ]
  },
  {
   "cell_type": "code",
   "execution_count": 14,
   "id": "54973439",
   "metadata": {},
   "outputs": [],
   "source": [
    "from sklearn.linear_model import LinearRegression"
   ]
  },
  {
   "cell_type": "code",
   "execution_count": 16,
   "id": "6d13925c",
   "metadata": {},
   "outputs": [],
   "source": [
    "lr_model=LinearRegression(fit_intercept=True)\n",
    "lr_learner=lr_model.fit(X_input,Y_out)"
   ]
  },
  {
   "cell_type": "code",
   "execution_count": 22,
   "id": "e0c7b002",
   "metadata": {},
   "outputs": [],
   "source": [
    "#lr_learner.predict([[1]])"
   ]
  },
  {
   "cell_type": "code",
   "execution_count": 24,
   "id": "bdd9fa91",
   "metadata": {},
   "outputs": [
    {
     "name": "stdout",
     "output_type": "stream",
     "text": [
      "m is [0.8] and c is 0.39999999999999947\n"
     ]
    }
   ],
   "source": [
    "m=lr_learner.coef_\n",
    "c=lr_learner.intercept_\n",
    "print(\"m is {} and c is {}\".format(m,c))"
   ]
  },
  {
   "cell_type": "code",
   "execution_count": 26,
   "id": "8c3aa731",
   "metadata": {},
   "outputs": [
    {
     "data": {
      "text/plain": [
       "array([1.2, 2. , 2.8, 3.6, 4.4])"
      ]
     },
     "execution_count": 26,
     "metadata": {},
     "output_type": "execute_result"
    }
   ],
   "source": [
    "YP=m*X_input[:,0]+c\n",
    "YP"
   ]
  },
  {
   "cell_type": "code",
   "execution_count": 33,
   "id": "f7d3e920",
   "metadata": {},
   "outputs": [
    {
     "data": {
      "text/plain": [
       "0.6928203230275508"
      ]
     },
     "execution_count": 33,
     "metadata": {},
     "output_type": "execute_result"
    }
   ],
   "source": [
    "error=np.sqrt((np.square(YP-Y_out)).sum()/5)\n",
    "error"
   ]
  },
  {
   "cell_type": "code",
   "execution_count": 34,
   "id": "cd87c488",
   "metadata": {},
   "outputs": [],
   "source": [
    "from sklearn.metrics import mean_squared_error"
   ]
  },
  {
   "cell_type": "code",
   "execution_count": 36,
   "id": "f1006af8",
   "metadata": {},
   "outputs": [
    {
     "data": {
      "text/plain": [
       "0.6928203230275508"
      ]
     },
     "execution_count": 36,
     "metadata": {},
     "output_type": "execute_result"
    }
   ],
   "source": [
    "error1=np.sqrt(mean_squared_error(YP,Y_out))\n",
    "error1"
   ]
  },
  {
   "cell_type": "code",
   "execution_count": 28,
   "id": "35a5849b",
   "metadata": {},
   "outputs": [
    {
     "data": {
      "image/png": "[encoded data removed]",
      "text/plain": [
       "<Figure size 432x288 with 1 Axes>"
      ]
     },
     "metadata": {
      "needs_background": "light"
     },
     "output_type": "display_data"
    }
   ],
   "source": [
    "plt.scatter(list(X_input[:,0]),list(Y_out))\n",
    "plt.plot(list(X_input[:,0]),list(YP),\"g\")\n",
    "plt.xlabel(\"X\")\n",
    "plt.ylabel(\"Y\")\n",
    "plt.legend([\"Ya\",\"Yp\"])\n",
    "plt.show()"
   ]
  },
  {
   "cell_type": "code",
   "execution_count": null,
   "id": "1df62673",
   "metadata": {},
   "outputs": [],
   "source": []
  }
 ],
 "metadata": {
  "kernelspec": {
   "display_name": "Python 3 (ipykernel)",
   "language": "python",
   "name": "python3"
  },
  "language_info": {
   "codemirror_mode": {
    "name": "ipython",
    "version": 3
   },
   "file_extension": ".py",
   "mimetype": "text/x-python",
   "name": "python",
   "nbconvert_exporter": "python",
   "pygments_lexer": "ipython3",
   "version": "3.9.12"
  }
 },
 "nbformat": 4,
 "nbformat_minor": 5
}
