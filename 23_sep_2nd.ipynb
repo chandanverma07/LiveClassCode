{
 "cells": [
  {
   "cell_type": "markdown",
   "id": "61c64365",
   "metadata": {},
   "source": [
    "### This is Jupyter Notebook "
   ]
  },
  {
   "cell_type": "code",
   "execution_count": 1,
   "id": "81c6916b",
   "metadata": {},
   "outputs": [],
   "source": [
    "a_var=\"chandan\""
   ]
  },
  {
   "cell_type": "code",
   "execution_count": 2,
   "id": "781d7965",
   "metadata": {},
   "outputs": [
    {
     "name": "stdout",
     "output_type": "stream",
     "text": [
      "<class 'str'>\n"
     ]
    }
   ],
   "source": [
    "print(type(a_var))"
   ]
  },
  {
   "cell_type": "markdown",
   "id": "cf25c9db",
   "metadata": {},
   "source": [
    "# list and  tuple and dict"
   ]
  },
  {
   "cell_type": "code",
   "execution_count": 14,
   "id": "bd5282fe",
   "metadata": {},
   "outputs": [],
   "source": [
    "a_list=[11,12,23,30,40,50]\n",
    "#a_tuple=()\n",
    "#a_dict={}"
   ]
  },
  {
   "cell_type": "code",
   "execution_count": 15,
   "id": "bcd50408",
   "metadata": {},
   "outputs": [],
   "source": [
    "#print(\"type of a_list {} type of b_tuple {} type of a_dicr {}\".\n",
    "      #format(type(a_list),type(a_tuple),type(a_dict)))"
   ]
  },
  {
   "cell_type": "code",
   "execution_count": 16,
   "id": "eff8cd2a",
   "metadata": {},
   "outputs": [
    {
     "data": {
      "text/plain": [
       "[11, 12, 23, 30, 40, 50]"
      ]
     },
     "execution_count": 16,
     "metadata": {},
     "output_type": "execute_result"
    }
   ],
   "source": [
    "a_list"
   ]
  },
  {
   "cell_type": "code",
   "execution_count": 24,
   "id": "43053a99",
   "metadata": {},
   "outputs": [
    {
     "data": {
      "text/plain": [
       "11"
      ]
     },
     "execution_count": 24,
     "metadata": {},
     "output_type": "execute_result"
    }
   ],
   "source": [
    "a_list[-len(a_list)]"
   ]
  },
  {
   "cell_type": "code",
   "execution_count": 25,
   "id": "59ee2f9c",
   "metadata": {},
   "outputs": [
    {
     "data": {
      "text/plain": [
       "50"
      ]
     },
     "execution_count": 25,
     "metadata": {},
     "output_type": "execute_result"
    }
   ],
   "source": [
    "a_list[-1]"
   ]
  },
  {
   "cell_type": "code",
   "execution_count": 34,
   "id": "7bd53cce",
   "metadata": {},
   "outputs": [
    {
     "name": "stdout",
     "output_type": "stream",
     "text": [
      "index of list is 0 and value is 11 \n",
      "index of list is 1 and value is 12 \n",
      "index of list is 2 and value is 23 \n",
      "index of list is 3 and value is 30 \n",
      "index of list is 4 and value is 40 \n",
      "index of list is 5 and value is 50 \n"
     ]
    }
   ],
   "source": [
    "for i in range(len(a_list)):\n",
    "    print(\"index of list is {} and value is {} \".format(i,a_list[i]))\n"
   ]
  },
  {
   "cell_type": "code",
   "execution_count": 35,
   "id": "f18c6c0f",
   "metadata": {},
   "outputs": [],
   "source": [
    "a_list=[11,12,13,14,10,9,0]\n",
    "b_list=[11,9,99,100,101,0,13]"
   ]
  },
  {
   "cell_type": "code",
   "execution_count": 39,
   "id": "f41bbbba",
   "metadata": {},
   "outputs": [],
   "source": [
    "a_set=set(a_list)\n",
    "b_set=set(b_list)"
   ]
  },
  {
   "cell_type": "code",
   "execution_count": 41,
   "id": "4d078669",
   "metadata": {},
   "outputs": [
    {
     "data": {
      "text/plain": [
       "{0, 9, 11, 13}"
      ]
     },
     "execution_count": 41,
     "metadata": {},
     "output_type": "execute_result"
    }
   ],
   "source": [
    "a_set.intersection(b_list)"
   ]
  },
  {
   "cell_type": "code",
   "execution_count": 42,
   "id": "91df6e88",
   "metadata": {},
   "outputs": [
    {
     "data": {
      "text/plain": [
       "[11, 12, 13, 14, 10, 9, 0]"
      ]
     },
     "execution_count": 42,
     "metadata": {},
     "output_type": "execute_result"
    }
   ],
   "source": [
    "a_list[:]"
   ]
  },
  {
   "cell_type": "code",
   "execution_count": 43,
   "id": "2511493b",
   "metadata": {},
   "outputs": [
    {
     "data": {
      "text/plain": [
       "[13, 14, 10, 9, 0]"
      ]
     },
     "execution_count": 43,
     "metadata": {},
     "output_type": "execute_result"
    }
   ],
   "source": [
    "a_list[2:]"
   ]
  },
  {
   "cell_type": "markdown",
   "id": "e1f3c4c6",
   "metadata": {},
   "source": [
    "# dict {\"key\":\"value\"}"
   ]
  },
  {
   "cell_type": "code",
   "execution_count": 1,
   "id": "304ba1b2",
   "metadata": {},
   "outputs": [],
   "source": [
    "my_dict={\"Name\":[\"AMIT\",\"AMAN\"],\"Age\":[20,21]}"
   ]
  },
  {
   "cell_type": "code",
   "execution_count": 2,
   "id": "69f4f602",
   "metadata": {},
   "outputs": [
    {
     "data": {
      "text/plain": [
       "{'Name': ['AMIT', 'AMAN'], 'Age': [20, 21]}"
      ]
     },
     "execution_count": 2,
     "metadata": {},
     "output_type": "execute_result"
    }
   ],
   "source": [
    "my_dict"
   ]
  },
  {
   "cell_type": "code",
   "execution_count": 4,
   "id": "c4c6456a",
   "metadata": {},
   "outputs": [
    {
     "data": {
      "text/plain": [
       "['AMIT', 'AMAN']"
      ]
     },
     "execution_count": 4,
     "metadata": {},
     "output_type": "execute_result"
    }
   ],
   "source": [
    "my_dict[\"Name\"]"
   ]
  },
  {
   "cell_type": "code",
   "execution_count": 5,
   "id": "b55d74b0",
   "metadata": {},
   "outputs": [
    {
     "data": {
      "text/plain": [
       "dict_keys(['Name', 'Age'])"
      ]
     },
     "execution_count": 5,
     "metadata": {},
     "output_type": "execute_result"
    }
   ],
   "source": [
    "my_dict.keys()"
   ]
  },
  {
   "cell_type": "code",
   "execution_count": 6,
   "id": "78be2986",
   "metadata": {},
   "outputs": [
    {
     "data": {
      "text/plain": [
       "dict_values([['AMIT', 'AMAN'], [20, 21]])"
      ]
     },
     "execution_count": 6,
     "metadata": {},
     "output_type": "execute_result"
    }
   ],
   "source": [
    "my_dict.values()"
   ]
  },
  {
   "cell_type": "code",
   "execution_count": null,
   "id": "c3bb8ae0",
   "metadata": {},
   "outputs": [],
   "source": []
  }
 ],
 "metadata": {
  "kernelspec": {
   "display_name": "Python 3 (ipykernel)",
   "language": "python",
   "name": "python3"
  },
  "language_info": {
   "codemirror_mode": {
    "name": "ipython",
    "version": 3
   },
   "file_extension": ".py",
   "mimetype": "text/x-python",
   "name": "python",
   "nbconvert_exporter": "python",
   "pygments_lexer": "ipython3",
   "version": "3.9.12"
  }
 },
 "nbformat": 4,
 "nbformat_minor": 5
}
