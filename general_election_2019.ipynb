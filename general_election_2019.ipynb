{
 "cells": [
  {
   "cell_type": "code",
   "execution_count": 14,
   "id": "35614ff2",
   "metadata": {},
   "outputs": [],
   "source": [
    "import pandas as pd\n",
    "import numpy as np"
   ]
  },
  {
   "cell_type": "markdown",
   "id": "70a753ca",
   "metadata": {},
   "source": [
    "### Reading the file "
   ]
  },
  {
   "cell_type": "markdown",
   "id": "1969f7e4",
   "metadata": {},
   "source": [
    "https://www.kaggle.com/datasets/rachittechnology/2019-indian-general-election?resource=download"
   ]
  },
  {
   "cell_type": "code",
   "execution_count": 12,
   "id": "dcd59dd1",
   "metadata": {},
   "outputs": [],
   "source": [
    "data=pd.read_excel(r\"C:\\Users\\mail2\\OneDrive\\Desktop\\Ml_Data\\mp_up_data\\2019_Resultss.xlsx\")"
   ]
  },
  {
   "cell_type": "code",
   "execution_count": 17,
   "id": "801606c3",
   "metadata": {},
   "outputs": [
    {
     "data": {
      "text/html": [
       "<div>\n",
       "<style scoped>\n",
       "    .dataframe tbody tr th:only-of-type {\n",
       "        vertical-align: middle;\n",
       "    }\n",
       "\n",
       "    .dataframe tbody tr th {\n",
       "        vertical-align: top;\n",
       "    }\n",
       "\n",
       "    .dataframe thead th {\n",
       "        text-align: right;\n",
       "    }\n",
       "</style>\n",
       "<table border=\"1\" class=\"dataframe\">\n",
       "  <thead>\n",
       "    <tr style=\"text-align: right;\">\n",
       "      <th></th>\n",
       "      <th>State</th>\n",
       "      <th>Constituency</th>\n",
       "      <th>O.S.N.</th>\n",
       "      <th>Candidate</th>\n",
       "      <th>Party</th>\n",
       "      <th>EVM Votes</th>\n",
       "      <th>Postal Votes</th>\n",
       "      <th>Total Votes</th>\n",
       "      <th>% of Votes</th>\n",
       "      <th>Candidate Won</th>\n",
       "    </tr>\n",
       "  </thead>\n",
       "  <tbody>\n",
       "    <tr>\n",
       "      <th>0</th>\n",
       "      <td>Andaman &amp; Nicobar Islands</td>\n",
       "      <td>Andaman &amp; Nicobar Islands</td>\n",
       "      <td>1</td>\n",
       "      <td>AYAN MANDAL</td>\n",
       "      <td>All India Trinamool Congress</td>\n",
       "      <td>1717</td>\n",
       "      <td>4</td>\n",
       "      <td>1721</td>\n",
       "      <td>0.83</td>\n",
       "      <td>loss</td>\n",
       "    </tr>\n",
       "    <tr>\n",
       "      <th>1</th>\n",
       "      <td>Andaman &amp; Nicobar Islands</td>\n",
       "      <td>Andaman &amp; Nicobar Islands</td>\n",
       "      <td>2</td>\n",
       "      <td>KULDEEP RAI SHARMA</td>\n",
       "      <td>Indian National Congress</td>\n",
       "      <td>95249</td>\n",
       "      <td>59</td>\n",
       "      <td>95308</td>\n",
       "      <td>45.98</td>\n",
       "      <td>loss</td>\n",
       "    </tr>\n",
       "    <tr>\n",
       "      <th>2</th>\n",
       "      <td>Andaman &amp; Nicobar Islands</td>\n",
       "      <td>Andaman &amp; Nicobar Islands</td>\n",
       "      <td>3</td>\n",
       "      <td>PRAKASH MINJ</td>\n",
       "      <td>Bahujan Samaj Party</td>\n",
       "      <td>2478</td>\n",
       "      <td>8</td>\n",
       "      <td>2486</td>\n",
       "      <td>1.20</td>\n",
       "      <td>loss</td>\n",
       "    </tr>\n",
       "    <tr>\n",
       "      <th>3</th>\n",
       "      <td>Andaman &amp; Nicobar Islands</td>\n",
       "      <td>Andaman &amp; Nicobar Islands</td>\n",
       "      <td>4</td>\n",
       "      <td>VISHAL JOLLY</td>\n",
       "      <td>Bharatiya Janata Party</td>\n",
       "      <td>93772</td>\n",
       "      <td>129</td>\n",
       "      <td>93901</td>\n",
       "      <td>45.30</td>\n",
       "      <td>loss</td>\n",
       "    </tr>\n",
       "    <tr>\n",
       "      <th>4</th>\n",
       "      <td>Andaman &amp; Nicobar Islands</td>\n",
       "      <td>Andaman &amp; Nicobar Islands</td>\n",
       "      <td>5</td>\n",
       "      <td>SANJAY MESHACK</td>\n",
       "      <td>Aam Aadmi Party</td>\n",
       "      <td>2837</td>\n",
       "      <td>2</td>\n",
       "      <td>2839</td>\n",
       "      <td>1.37</td>\n",
       "      <td>loss</td>\n",
       "    </tr>\n",
       "  </tbody>\n",
       "</table>\n",
       "</div>"
      ],
      "text/plain": [
       "                       State                Constituency  O.S.N.  \\\n",
       "0  Andaman & Nicobar Islands  Andaman & Nicobar Islands        1   \n",
       "1  Andaman & Nicobar Islands  Andaman & Nicobar Islands        2   \n",
       "2  Andaman & Nicobar Islands  Andaman & Nicobar Islands        3   \n",
       "3  Andaman & Nicobar Islands  Andaman & Nicobar Islands        4   \n",
       "4  Andaman & Nicobar Islands  Andaman & Nicobar Islands        5   \n",
       "\n",
       "            Candidate                         Party  EVM Votes  Postal Votes  \\\n",
       "0         AYAN MANDAL  All India Trinamool Congress       1717             4   \n",
       "1  KULDEEP RAI SHARMA      Indian National Congress      95249            59   \n",
       "2        PRAKASH MINJ           Bahujan Samaj Party       2478             8   \n",
       "3        VISHAL JOLLY        Bharatiya Janata Party      93772           129   \n",
       "4      SANJAY MESHACK               Aam Aadmi Party       2837             2   \n",
       "\n",
       "   Total Votes  % of Votes Candidate Won  \n",
       "0         1721        0.83          loss  \n",
       "1        95308       45.98          loss  \n",
       "2         2486        1.20          loss  \n",
       "3        93901       45.30          loss  \n",
       "4         2839        1.37          loss  "
      ]
     },
     "execution_count": 17,
     "metadata": {},
     "output_type": "execute_result"
    }
   ],
   "source": [
    "data.head(5)"
   ]
  },
  {
   "cell_type": "code",
   "execution_count": 18,
   "id": "94edba9e",
   "metadata": {},
   "outputs": [
    {
     "name": "stdout",
     "output_type": "stream",
     "text": [
      "<class 'pandas.core.frame.DataFrame'>\n",
      "RangeIndex: 8568 entries, 0 to 8567\n",
      "Data columns (total 10 columns):\n",
      " #   Column         Non-Null Count  Dtype  \n",
      "---  ------         --------------  -----  \n",
      " 0   State          8568 non-null   object \n",
      " 1   Constituency   8568 non-null   object \n",
      " 2   O.S.N.         8568 non-null   int64  \n",
      " 3   Candidate      8568 non-null   object \n",
      " 4   Party          8568 non-null   object \n",
      " 5   EVM Votes      8568 non-null   int64  \n",
      " 6   Postal Votes   8568 non-null   int64  \n",
      " 7   Total Votes    8568 non-null   int64  \n",
      " 8   % of Votes     8568 non-null   float64\n",
      " 9   Candidate Won  8568 non-null   object \n",
      "dtypes: float64(1), int64(4), object(5)\n",
      "memory usage: 669.5+ KB\n"
     ]
    }
   ],
   "source": [
    "data.info()"
   ]
  },
  {
   "cell_type": "code",
   "execution_count": 24,
   "id": "3c1f444b",
   "metadata": {},
   "outputs": [
    {
     "data": {
      "text/plain": [
       "Independent                                    3442\n",
       "None of the Above                               542\n",
       "Bharatiya Janata Party                          436\n",
       "Indian National Congress                        421\n",
       "Bahujan Samaj Party                             383\n",
       "Bahujan Mukti Party                             119\n",
       "SOCIALIST UNITY CENTRE OF INDIA (COMMUNIST)     113\n",
       "Shivsena                                         98\n",
       "Pragatishil Samajwadi Party (Lohia)              82\n",
       "Ambedkarite Party of India                       77\n",
       "Name: Party, dtype: int64"
      ]
     },
     "execution_count": 24,
     "metadata": {},
     "output_type": "execute_result"
    }
   ],
   "source": [
    "data[\"Party\"].value_counts()[:10]"
   ]
  },
  {
   "cell_type": "code",
   "execution_count": null,
   "id": "592a111f",
   "metadata": {},
   "outputs": [],
   "source": []
  }
 ],
 "metadata": {
  "kernelspec": {
   "display_name": "Python 3 (ipykernel)",
   "language": "python",
   "name": "python3"
  },
  "language_info": {
   "codemirror_mode": {
    "name": "ipython",
    "version": 3
   },
   "file_extension": ".py",
   "mimetype": "text/x-python",
   "name": "python",
   "nbconvert_exporter": "python",
   "pygments_lexer": "ipython3",
   "version": "3.9.12"
  }
 },
 "nbformat": 4,
 "nbformat_minor": 5
}
