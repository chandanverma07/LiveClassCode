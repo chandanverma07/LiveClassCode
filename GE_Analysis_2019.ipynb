{
 "cells": [
  {
   "cell_type": "code",
   "execution_count": 1,
   "id": "f9234a07",
   "metadata": {},
   "outputs": [],
   "source": [
    "import numpy as np\n",
    "import pandas as pd\n",
    "import matplotlib.pyplot as plt\n",
    "import seaborn as sb"
   ]
  },
  {
   "cell_type": "code",
   "execution_count": 2,
   "id": "e4ad11f6",
   "metadata": {},
   "outputs": [],
   "source": [
    "ls_data=pd.read_csv(r\"C:\\Users\\mail2\\OneDrive\\Desktop\\Ml_Data\\mp_up_data\\LokSabha.csv\")"
   ]
  },
  {
   "cell_type": "code",
   "execution_count": 4,
   "id": "58c0e9b7",
   "metadata": {},
   "outputs": [
    {
     "data": {
      "text/plain": [
       "(2263, 19)"
      ]
     },
     "execution_count": 4,
     "metadata": {},
     "output_type": "execute_result"
    }
   ],
   "source": [
    "ls_data.shape"
   ]
  },
  {
   "cell_type": "code",
   "execution_count": 5,
   "id": "8af37643",
   "metadata": {},
   "outputs": [
    {
     "data": {
      "text/plain": [
       "Index(['STATE', 'CONSTITUENCY', 'NAME', 'WINNER', 'PARTY', 'SYMBOL', 'GENDER',\n",
       "       'CRIMINAL\\nCASES', 'AGE', 'CATEGORY', 'EDUCATION', 'ASSETS',\n",
       "       'LIABILITIES', 'GENERAL\\nVOTES', 'POSTAL\\nVOTES', 'TOTAL\\nVOTES',\n",
       "       'OVER TOTAL ELECTORS \\nIN CONSTITUENCY',\n",
       "       'OVER TOTAL VOTES POLLED \\nIN CONSTITUENCY', 'TOTAL ELECTORS'],\n",
       "      dtype='object')"
      ]
     },
     "execution_count": 5,
     "metadata": {},
     "output_type": "execute_result"
    }
   ],
   "source": [
    "ls_data.columns"
   ]
  },
  {
   "cell_type": "code",
   "execution_count": 9,
   "id": "6bda2e6d",
   "metadata": {},
   "outputs": [],
   "source": [
    "#ls_data[ls_data[\"CONSTITUENCY\"]==\"AURANGABAD\"]"
   ]
  },
  {
   "cell_type": "code",
   "execution_count": 12,
   "id": "a06e0006",
   "metadata": {},
   "outputs": [],
   "source": [
    "#ls_data[\"CONSTITUENCY\"].value_counts()[:5]"
   ]
  },
  {
   "cell_type": "code",
   "execution_count": 13,
   "id": "756994f4",
   "metadata": {},
   "outputs": [],
   "source": [
    "#ls_data.info()"
   ]
  },
  {
   "cell_type": "code",
   "execution_count": 16,
   "id": "e1a430de",
   "metadata": {},
   "outputs": [],
   "source": [
    "ls_data.rename(columns={\"CRIMINAL\\nCASES\":\"Criminal\"},inplace=True)"
   ]
  },
  {
   "cell_type": "code",
   "execution_count": 18,
   "id": "4b0fd593",
   "metadata": {},
   "outputs": [],
   "source": [
    "#ls_data"
   ]
  },
  {
   "cell_type": "code",
   "execution_count": 20,
   "id": "a149e61d",
   "metadata": {},
   "outputs": [],
   "source": [
    "#ls_data.corr()"
   ]
  },
  {
   "cell_type": "code",
   "execution_count": 23,
   "id": "a8564cac",
   "metadata": {},
   "outputs": [],
   "source": [
    "#ls_data[\"Criminal\"].value_counts()"
   ]
  },
  {
   "cell_type": "code",
   "execution_count": 37,
   "id": "f1f2c735",
   "metadata": {},
   "outputs": [],
   "source": [
    "ls_data[\"Criminal\"]=ls_data[\"Criminal\"].replace(['Not Available'],'0')\n",
    "ls_data[\"Criminal\"]=pd.to_numeric(ls_data[\"Criminal\"],errors='coerce')\n"
   ]
  },
  {
   "cell_type": "code",
   "execution_count": 40,
   "id": "bede13fa",
   "metadata": {},
   "outputs": [],
   "source": [
    "#ls_data.info()\n",
    "#ls_data[\"Criminal\"].value_counts()"
   ]
  },
  {
   "cell_type": "code",
   "execution_count": 42,
   "id": "23bc0322",
   "metadata": {},
   "outputs": [],
   "source": [
    "#ls_data"
   ]
  },
  {
   "cell_type": "code",
   "execution_count": 45,
   "id": "5535d9fb",
   "metadata": {},
   "outputs": [
    {
     "data": {
      "text/plain": [
       "245"
      ]
     },
     "execution_count": 45,
     "metadata": {},
     "output_type": "execute_result"
    }
   ],
   "source": [
    "ls_data[\"Criminal\"].isnull().sum()"
   ]
  },
  {
   "cell_type": "code",
   "execution_count": 51,
   "id": "415b7840",
   "metadata": {},
   "outputs": [
    {
     "data": {
      "image/png": "[encoded data removed]",
      "text/plain": [
       "<Figure size 1440x360 with 1 Axes>"
      ]
     },
     "metadata": {
      "needs_background": "light"
     },
     "output_type": "display_data"
    }
   ],
   "source": [
    "plt.figure(figsize=(20,5))\n",
    "sb.countplot(x=\"Criminal\",data=ls_data)\n",
    "plt.show()"
   ]
  },
  {
   "cell_type": "code",
   "execution_count": null,
   "id": "16d3c958",
   "metadata": {},
   "outputs": [],
   "source": []
  }
 ],
 "metadata": {
  "kernelspec": {
   "display_name": "Python 3 (ipykernel)",
   "language": "python",
   "name": "python3"
  },
  "language_info": {
   "codemirror_mode": {
    "name": "ipython",
    "version": 3
   },
   "file_extension": ".py",
   "mimetype": "text/x-python",
   "name": "python",
   "nbconvert_exporter": "python",
   "pygments_lexer": "ipython3",
   "version": "3.9.12"
  }
 },
 "nbformat": 4,
 "nbformat_minor": 5
}
