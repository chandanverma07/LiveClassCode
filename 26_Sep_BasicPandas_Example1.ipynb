{
 "cells": [
  {
   "cell_type": "code",
   "execution_count": 1,
   "id": "2642d5c7",
   "metadata": {},
   "outputs": [],
   "source": [
    "import numpy as np\n",
    "import pandas as pd\n",
    "from matplotlib import pyplot as plt"
   ]
  },
  {
   "cell_type": "code",
   "execution_count": 2,
   "id": "f2911629",
   "metadata": {},
   "outputs": [],
   "source": [
    "mydata=pd.read_excel(r\"C:\\Users\\mail2\\OneDrive\\Desktop\\Ml_Data\\Population_Summary.xlsx\")"
   ]
  },
  {
   "cell_type": "code",
   "execution_count": 13,
   "id": "f28a03bb",
   "metadata": {},
   "outputs": [
    {
     "data": {
      "text/html": [
       "<div>\n",
       "<style scoped>\n",
       "    .dataframe tbody tr th:only-of-type {\n",
       "        vertical-align: middle;\n",
       "    }\n",
       "\n",
       "    .dataframe tbody tr th {\n",
       "        vertical-align: top;\n",
       "    }\n",
       "\n",
       "    .dataframe thead th {\n",
       "        text-align: right;\n",
       "    }\n",
       "</style>\n",
       "<table border=\"1\" class=\"dataframe\">\n",
       "  <thead>\n",
       "    <tr style=\"text-align: right;\">\n",
       "      <th></th>\n",
       "      <th>Rank</th>\n",
       "      <th>State_UT</th>\n",
       "      <th>Population</th>\n",
       "      <th>Rulal</th>\n",
       "      <th>Urban</th>\n",
       "      <th>Share</th>\n",
       "      <th>Growth</th>\n",
       "      <th>Country</th>\n",
       "      <th>World_Rank</th>\n",
       "    </tr>\n",
       "  </thead>\n",
       "  <tbody>\n",
       "    <tr>\n",
       "      <th>0</th>\n",
       "      <td>1</td>\n",
       "      <td>Uttar Pradesh</td>\n",
       "      <td>199812341</td>\n",
       "      <td>77.73</td>\n",
       "      <td>22.27</td>\n",
       "      <td>16.5</td>\n",
       "      <td>20.23</td>\n",
       "      <td>Brazil</td>\n",
       "      <td>5</td>\n",
       "    </tr>\n",
       "  </tbody>\n",
       "</table>\n",
       "</div>"
      ],
      "text/plain": [
       "  Rank       State_UT  Population  Rulal  Urban  Share  Growth Country  \\\n",
       "0    1  Uttar Pradesh   199812341  77.73  22.27   16.5   20.23  Brazil   \n",
       "\n",
       "   World_Rank  \n",
       "0           5  "
      ]
     },
     "execution_count": 13,
     "metadata": {},
     "output_type": "execute_result"
    }
   ],
   "source": [
    "mydata.head(1)\n",
    "#mydata.tail()\n",
    "#mydata.sample(1)"
   ]
  },
  {
   "cell_type": "code",
   "execution_count": 16,
   "id": "f771f003",
   "metadata": {},
   "outputs": [],
   "source": [
    "#mydata.describe().T"
   ]
  },
  {
   "cell_type": "code",
   "execution_count": 18,
   "id": "e1a56eab",
   "metadata": {},
   "outputs": [],
   "source": [
    "#mydata.info()"
   ]
  },
  {
   "cell_type": "code",
   "execution_count": 21,
   "id": "4ec73c82",
   "metadata": {},
   "outputs": [],
   "source": [
    "st=mydata[[\"State_UT\",\"Population\"]]"
   ]
  },
  {
   "cell_type": "code",
   "execution_count": 23,
   "id": "c9988c75",
   "metadata": {},
   "outputs": [],
   "source": [
    "#st"
   ]
  },
  {
   "cell_type": "code",
   "execution_count": 25,
   "id": "c20ad67d",
   "metadata": {},
   "outputs": [
    {
     "data": {
      "text/plain": [
       "Index(['Rank', 'State_UT', 'Population', 'Rulal', 'Urban', 'Share', 'Growth',\n",
       "       'Country', 'World_Rank'],\n",
       "      dtype='object')"
      ]
     },
     "execution_count": 25,
     "metadata": {},
     "output_type": "execute_result"
    }
   ],
   "source": [
    "#mydata.columns\n",
    "mydata.keys()"
   ]
  },
  {
   "cell_type": "code",
   "execution_count": 26,
   "id": "6a875dc3",
   "metadata": {},
   "outputs": [
    {
     "data": {
      "text/html": [
       "<div>\n",
       "<style scoped>\n",
       "    .dataframe tbody tr th:only-of-type {\n",
       "        vertical-align: middle;\n",
       "    }\n",
       "\n",
       "    .dataframe tbody tr th {\n",
       "        vertical-align: top;\n",
       "    }\n",
       "\n",
       "    .dataframe thead th {\n",
       "        text-align: right;\n",
       "    }\n",
       "</style>\n",
       "<table border=\"1\" class=\"dataframe\">\n",
       "  <thead>\n",
       "    <tr style=\"text-align: right;\">\n",
       "      <th></th>\n",
       "      <th>Rank</th>\n",
       "      <th>State_UT</th>\n",
       "      <th>Population</th>\n",
       "      <th>Rulal</th>\n",
       "      <th>Urban</th>\n",
       "      <th>Share</th>\n",
       "      <th>Growth</th>\n",
       "      <th>Country</th>\n",
       "      <th>World_Rank</th>\n",
       "    </tr>\n",
       "  </thead>\n",
       "  <tbody>\n",
       "    <tr>\n",
       "      <th>0</th>\n",
       "      <td>1</td>\n",
       "      <td>Uttar Pradesh</td>\n",
       "      <td>199812341</td>\n",
       "      <td>77.73</td>\n",
       "      <td>22.27</td>\n",
       "      <td>16.5</td>\n",
       "      <td>20.23</td>\n",
       "      <td>Brazil</td>\n",
       "      <td>5</td>\n",
       "    </tr>\n",
       "  </tbody>\n",
       "</table>\n",
       "</div>"
      ],
      "text/plain": [
       "  Rank       State_UT  Population  Rulal  Urban  Share  Growth Country  \\\n",
       "0    1  Uttar Pradesh   199812341  77.73  22.27   16.5   20.23  Brazil   \n",
       "\n",
       "   World_Rank  \n",
       "0           5  "
      ]
     },
     "execution_count": 26,
     "metadata": {},
     "output_type": "execute_result"
    }
   ],
   "source": [
    "mydata.head(1)"
   ]
  },
  {
   "cell_type": "code",
   "execution_count": 27,
   "id": "d2723b2c",
   "metadata": {},
   "outputs": [
    {
     "data": {
      "text/plain": [
       "-0.58"
      ]
     },
     "execution_count": 27,
     "metadata": {},
     "output_type": "execute_result"
    }
   ],
   "source": [
    "mydata[\"Growth\"].min()"
   ]
  },
  {
   "cell_type": "code",
   "execution_count": 29,
   "id": "7596646e",
   "metadata": {},
   "outputs": [
    {
     "data": {
      "text/html": [
       "<div>\n",
       "<style scoped>\n",
       "    .dataframe tbody tr th:only-of-type {\n",
       "        vertical-align: middle;\n",
       "    }\n",
       "\n",
       "    .dataframe tbody tr th {\n",
       "        vertical-align: top;\n",
       "    }\n",
       "\n",
       "    .dataframe thead th {\n",
       "        text-align: right;\n",
       "    }\n",
       "</style>\n",
       "<table border=\"1\" class=\"dataframe\">\n",
       "  <thead>\n",
       "    <tr style=\"text-align: right;\">\n",
       "      <th></th>\n",
       "      <th>Rank</th>\n",
       "      <th>State_UT</th>\n",
       "      <th>Population</th>\n",
       "      <th>Rulal</th>\n",
       "      <th>Urban</th>\n",
       "      <th>Share</th>\n",
       "      <th>Growth</th>\n",
       "      <th>Country</th>\n",
       "      <th>World_Rank</th>\n",
       "    </tr>\n",
       "  </thead>\n",
       "  <tbody>\n",
       "    <tr>\n",
       "      <th>24</th>\n",
       "      <td>24</td>\n",
       "      <td>Nagaland</td>\n",
       "      <td>1978502</td>\n",
       "      <td>71.14</td>\n",
       "      <td>28.86</td>\n",
       "      <td>0.16</td>\n",
       "      <td>-0.58</td>\n",
       "      <td>Botswana</td>\n",
       "      <td>148</td>\n",
       "    </tr>\n",
       "  </tbody>\n",
       "</table>\n",
       "</div>"
      ],
      "text/plain": [
       "   Rank  State_UT  Population  Rulal  Urban  Share  Growth   Country  \\\n",
       "24   24  Nagaland     1978502  71.14  28.86   0.16   -0.58  Botswana   \n",
       "\n",
       "    World_Rank  \n",
       "24         148  "
      ]
     },
     "execution_count": 29,
     "metadata": {},
     "output_type": "execute_result"
    }
   ],
   "source": [
    "mydata[mydata[\"Growth\"]==mydata[\"Growth\"].min()]"
   ]
  },
  {
   "cell_type": "code",
   "execution_count": 30,
   "id": "e9acabb9",
   "metadata": {},
   "outputs": [
    {
     "data": {
      "text/plain": [
       "1210854977"
      ]
     },
     "execution_count": 30,
     "metadata": {},
     "output_type": "execute_result"
    }
   ],
   "source": [
    "mydata[\"Population\"].sum(axis=0)"
   ]
  },
  {
   "cell_type": "code",
   "execution_count": 31,
   "id": "46306c81",
   "metadata": {},
   "outputs": [],
   "source": [
    "mydata[\"%Pop\"]=mydata[\"Population\"]/mydata[\"Population\"].sum(axis=0)"
   ]
  },
  {
   "cell_type": "code",
   "execution_count": 33,
   "id": "3da79097",
   "metadata": {},
   "outputs": [],
   "source": [
    "#mydata"
   ]
  },
  {
   "cell_type": "code",
   "execution_count": 40,
   "id": "0e6ed9b5",
   "metadata": {},
   "outputs": [],
   "source": [
    "kp=mydata[mydata[\"State_UT\"]==\"Karnataka\"][\"Population\"].values[0]"
   ]
  },
  {
   "cell_type": "code",
   "execution_count": 45,
   "id": "f14642eb",
   "metadata": {},
   "outputs": [],
   "source": [
    "#kp"
   ]
  },
  {
   "cell_type": "code",
   "execution_count": 46,
   "id": "f7d7e767",
   "metadata": {},
   "outputs": [],
   "source": [
    "#len(mydata[mydata[\"Population\"]>kp])"
   ]
  },
  {
   "cell_type": "code",
   "execution_count": 47,
   "id": "0517a3e6",
   "metadata": {},
   "outputs": [],
   "source": [
    "#mydata[mydata[\"Population\"]>kp][\"State_UT\"]"
   ]
  },
  {
   "cell_type": "code",
   "execution_count": 50,
   "id": "17d5fa13",
   "metadata": {},
   "outputs": [],
   "source": [
    "#mydata.iloc[:10,2:4]"
   ]
  },
  {
   "cell_type": "code",
   "execution_count": 52,
   "id": "d36aac59",
   "metadata": {},
   "outputs": [
    {
     "data": {
      "text/html": [
       "<div>\n",
       "<style scoped>\n",
       "    .dataframe tbody tr th:only-of-type {\n",
       "        vertical-align: middle;\n",
       "    }\n",
       "\n",
       "    .dataframe tbody tr th {\n",
       "        vertical-align: top;\n",
       "    }\n",
       "\n",
       "    .dataframe thead th {\n",
       "        text-align: right;\n",
       "    }\n",
       "</style>\n",
       "<table border=\"1\" class=\"dataframe\">\n",
       "  <thead>\n",
       "    <tr style=\"text-align: right;\">\n",
       "      <th></th>\n",
       "      <th>State_UT</th>\n",
       "      <th>Population</th>\n",
       "    </tr>\n",
       "  </thead>\n",
       "  <tbody>\n",
       "    <tr>\n",
       "      <th>0</th>\n",
       "      <td>Uttar Pradesh</td>\n",
       "      <td>199812341</td>\n",
       "    </tr>\n",
       "    <tr>\n",
       "      <th>1</th>\n",
       "      <td>Maharashtra</td>\n",
       "      <td>112374333</td>\n",
       "    </tr>\n",
       "    <tr>\n",
       "      <th>2</th>\n",
       "      <td>Bihar</td>\n",
       "      <td>104099452</td>\n",
       "    </tr>\n",
       "    <tr>\n",
       "      <th>3</th>\n",
       "      <td>West Bengal</td>\n",
       "      <td>91276115</td>\n",
       "    </tr>\n",
       "    <tr>\n",
       "      <th>4</th>\n",
       "      <td>Andhra Pradesh</td>\n",
       "      <td>84580777</td>\n",
       "    </tr>\n",
       "    <tr>\n",
       "      <th>5</th>\n",
       "      <td>Madhya Pradesh</td>\n",
       "      <td>72626809</td>\n",
       "    </tr>\n",
       "    <tr>\n",
       "      <th>6</th>\n",
       "      <td>Tamil Nadu</td>\n",
       "      <td>72147030</td>\n",
       "    </tr>\n",
       "    <tr>\n",
       "      <th>7</th>\n",
       "      <td>Rajasthan</td>\n",
       "      <td>68548437</td>\n",
       "    </tr>\n",
       "    <tr>\n",
       "      <th>8</th>\n",
       "      <td>Karnataka</td>\n",
       "      <td>61095297</td>\n",
       "    </tr>\n",
       "    <tr>\n",
       "      <th>9</th>\n",
       "      <td>Gujarat</td>\n",
       "      <td>60439692</td>\n",
       "    </tr>\n",
       "    <tr>\n",
       "      <th>10</th>\n",
       "      <td>Odisha</td>\n",
       "      <td>41974218</td>\n",
       "    </tr>\n",
       "  </tbody>\n",
       "</table>\n",
       "</div>"
      ],
      "text/plain": [
       "          State_UT  Population\n",
       "0    Uttar Pradesh   199812341\n",
       "1      Maharashtra   112374333\n",
       "2            Bihar   104099452\n",
       "3      West Bengal    91276115\n",
       "4   Andhra Pradesh    84580777\n",
       "5   Madhya Pradesh    72626809\n",
       "6       Tamil Nadu    72147030\n",
       "7        Rajasthan    68548437\n",
       "8        Karnataka    61095297\n",
       "9          Gujarat    60439692\n",
       "10          Odisha    41974218"
      ]
     },
     "execution_count": 52,
     "metadata": {},
     "output_type": "execute_result"
    }
   ],
   "source": [
    "mydata.loc[:10,\"State_UT\":\"Population\"]"
   ]
  },
  {
   "cell_type": "code",
   "execution_count": null,
   "id": "32b1d1b4",
   "metadata": {},
   "outputs": [],
   "source": []
  }
 ],
 "metadata": {
  "kernelspec": {
   "display_name": "Python 3 (ipykernel)",
   "language": "python",
   "name": "python3"
  },
  "language_info": {
   "codemirror_mode": {
    "name": "ipython",
    "version": 3
   },
   "file_extension": ".py",
   "mimetype": "text/x-python",
   "name": "python",
   "nbconvert_exporter": "python",
   "pygments_lexer": "ipython3",
   "version": "3.9.12"
  }
 },
 "nbformat": 4,
 "nbformat_minor": 5
}
