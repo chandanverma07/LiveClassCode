{
 "cells": [
  {
   "cell_type": "code",
   "execution_count": 1,
   "id": "73ef880a",
   "metadata": {},
   "outputs": [],
   "source": [
    "import pandas as pd\n",
    "import numpy as np\n",
    "import seaborn as sb\n",
    "from matplotlib import pyplot as plt"
   ]
  },
  {
   "cell_type": "code",
   "execution_count": 2,
   "id": "110119f7",
   "metadata": {},
   "outputs": [],
   "source": [
    "X_input=np.array([[1],[2],[3],[4],[5]])\n",
    "Y_out=np.array([1,3,2,3,5])"
   ]
  },
  {
   "cell_type": "code",
   "execution_count": 6,
   "id": "4a3ebf36",
   "metadata": {},
   "outputs": [],
   "source": [
    "mydata=pd.DataFrame({\"X\":list(X_input[:,0]),\n",
    "                     \"Y\":list(Y_out)})"
   ]
  },
  {
   "cell_type": "code",
   "execution_count": 11,
   "id": "95a1c3ab",
   "metadata": {},
   "outputs": [],
   "source": [
    "#sb.heatmap(mydata.corr())\n",
    "#plt.show()"
   ]
  },
  {
   "cell_type": "code",
   "execution_count": 13,
   "id": "f9c9348d",
   "metadata": {},
   "outputs": [],
   "source": [
    "from sklearn.linear_model import LinearRegression"
   ]
  },
  {
   "cell_type": "code",
   "execution_count": 18,
   "id": "282f340b",
   "metadata": {},
   "outputs": [],
   "source": [
    "lr_model=LinearRegression(fit_intercept=True)\n",
    "lr_learner=lr_model.fit(X_input,Y_out)\n",
    "lr_learner.predict([[1]])\n",
    "m=lr_learner.coef_\n",
    "c=lr_learner.intercept_\n",
    "#print(\"m {} c {}\".format(m,c))\n",
    "Yp=m*X_input[:,0]+c\n",
    "#print(Yp)"
   ]
  },
  {
   "cell_type": "code",
   "execution_count": 19,
   "id": "420aade3",
   "metadata": {},
   "outputs": [
    {
     "name": "stdout",
     "output_type": "stream",
     "text": [
      "0.6928203230275508\n"
     ]
    }
   ],
   "source": [
    "error=np.sqrt(np.square(Yp-Y_out).sum()/len(Y_out))\n",
    "print(error)"
   ]
  },
  {
   "cell_type": "code",
   "execution_count": 22,
   "id": "5e03cb98",
   "metadata": {},
   "outputs": [
    {
     "data": {
      "image/png": "[encoded data removed]",
      "text/plain": [
       "<Figure size 432x288 with 1 Axes>"
      ]
     },
     "metadata": {
      "needs_background": "light"
     },
     "output_type": "display_data"
    }
   ],
   "source": [
    "plt.scatter(list(X_input[:,0]),list(Y_out))\n",
    "plt.plot(list(X_input[:,0]),Yp,'g>')\n",
    "plt.plot(list(X_input[:,0]),Yp,'b')\n",
    "plt.xlabel(\"X\")\n",
    "plt.ylabel(\"Ya\")\n",
    "plt.legend([\"Ya\",\"Yp\"])\n",
    "plt.title(\"Regression\")\n",
    "plt.show()"
   ]
  },
  {
   "cell_type": "code",
   "execution_count": 23,
   "id": "8263b3e3",
   "metadata": {},
   "outputs": [],
   "source": [
    "from sklearn.metrics import mean_squared_error"
   ]
  },
  {
   "cell_type": "code",
   "execution_count": 30,
   "id": "f6e7089f",
   "metadata": {},
   "outputs": [
    {
     "data": {
      "text/plain": [
       "0.6928203230275508"
      ]
     },
     "execution_count": 30,
     "metadata": {},
     "output_type": "execute_result"
    }
   ],
   "source": [
    "error1=np.sqrt(mean_squared_error(Y_out,Yp))\n",
    "error1"
   ]
  },
  {
   "cell_type": "code",
   "execution_count": 28,
   "id": "b84db232",
   "metadata": {},
   "outputs": [
    {
     "data": {
      "image/png": "[encoded data removed]",
      "text/plain": [
       "<Figure size 360x360 with 1 Axes>"
      ]
     },
     "metadata": {
      "needs_background": "light"
     },
     "output_type": "display_data"
    }
   ],
   "source": [
    "sb.displot(Y_out-Yp)\n",
    "plt.show()"
   ]
  },
  {
   "cell_type": "code",
   "execution_count": null,
   "id": "03cfe905",
   "metadata": {},
   "outputs": [],
   "source": []
  }
 ],
 "metadata": {
  "kernelspec": {
   "display_name": "Python 3 (ipykernel)",
   "language": "python",
   "name": "python3"
  },
  "language_info": {
   "codemirror_mode": {
    "name": "ipython",
    "version": 3
   },
   "file_extension": ".py",
   "mimetype": "text/x-python",
   "name": "python",
   "nbconvert_exporter": "python",
   "pygments_lexer": "ipython3",
   "version": "3.9.12"
  }
 },
 "nbformat": 4,
 "nbformat_minor": 5
}
