{
 "cells": [
  {
   "cell_type": "code",
   "execution_count": 1,
   "id": "9a68787e",
   "metadata": {},
   "outputs": [],
   "source": [
    "import pandas as pd\n",
    "import numpy as np\n",
    "import seaborn as sb\n",
    "from matplotlib import pyplot as plt"
   ]
  },
  {
   "cell_type": "code",
   "execution_count": 2,
   "id": "30a769b2",
   "metadata": {},
   "outputs": [],
   "source": [
    "data=pd.read_csv(\"C:/Users/mail2/OneDrive/Desktop/Ml_Data/Social_Network_Ads.csv\")"
   ]
  },
  {
   "cell_type": "code",
   "execution_count": 4,
   "id": "cf07251f",
   "metadata": {},
   "outputs": [],
   "source": [
    "data=data.drop([\"User ID\"],axis=1)"
   ]
  },
  {
   "cell_type": "code",
   "execution_count": 6,
   "id": "5e692188",
   "metadata": {},
   "outputs": [
    {
     "data": {
      "text/html": [
       "<div>\n",
       "<style scoped>\n",
       "    .dataframe tbody tr th:only-of-type {\n",
       "        vertical-align: middle;\n",
       "    }\n",
       "\n",
       "    .dataframe tbody tr th {\n",
       "        vertical-align: top;\n",
       "    }\n",
       "\n",
       "    .dataframe thead th {\n",
       "        text-align: right;\n",
       "    }\n",
       "</style>\n",
       "<table border=\"1\" class=\"dataframe\">\n",
       "  <thead>\n",
       "    <tr style=\"text-align: right;\">\n",
       "      <th></th>\n",
       "      <th>Gender</th>\n",
       "      <th>Age</th>\n",
       "      <th>EstimatedSalary</th>\n",
       "      <th>Purchased</th>\n",
       "    </tr>\n",
       "  </thead>\n",
       "  <tbody>\n",
       "    <tr>\n",
       "      <th>0</th>\n",
       "      <td>Male</td>\n",
       "      <td>19</td>\n",
       "      <td>19000</td>\n",
       "      <td>0</td>\n",
       "    </tr>\n",
       "  </tbody>\n",
       "</table>\n",
       "</div>"
      ],
      "text/plain": [
       "  Gender  Age  EstimatedSalary  Purchased\n",
       "0   Male   19            19000          0"
      ]
     },
     "execution_count": 6,
     "metadata": {},
     "output_type": "execute_result"
    }
   ],
   "source": [
    "data.head(1)"
   ]
  },
  {
   "cell_type": "code",
   "execution_count": 7,
   "id": "7bc073c0",
   "metadata": {},
   "outputs": [],
   "source": [
    "X_feature=data.iloc[:,0:3]\n",
    "Y_purchased=data.iloc[:,3]"
   ]
  },
  {
   "cell_type": "code",
   "execution_count": 12,
   "id": "2fd0cb0f",
   "metadata": {},
   "outputs": [],
   "source": [
    "#Y_purchased"
   ]
  },
  {
   "cell_type": "code",
   "execution_count": 14,
   "id": "30f7e9ef",
   "metadata": {},
   "outputs": [],
   "source": [
    "X_feature[\"Gender\"]=X_feature[\"Gender\"].map({\"Male\":0,\"Female\":1})"
   ]
  },
  {
   "cell_type": "code",
   "execution_count": 17,
   "id": "2979c04d",
   "metadata": {},
   "outputs": [
    {
     "data": {
      "text/html": [
       "<div>\n",
       "<style scoped>\n",
       "    .dataframe tbody tr th:only-of-type {\n",
       "        vertical-align: middle;\n",
       "    }\n",
       "\n",
       "    .dataframe tbody tr th {\n",
       "        vertical-align: top;\n",
       "    }\n",
       "\n",
       "    .dataframe thead th {\n",
       "        text-align: right;\n",
       "    }\n",
       "</style>\n",
       "<table border=\"1\" class=\"dataframe\">\n",
       "  <thead>\n",
       "    <tr style=\"text-align: right;\">\n",
       "      <th></th>\n",
       "      <th>Gender</th>\n",
       "      <th>Age</th>\n",
       "      <th>EstimatedSalary</th>\n",
       "    </tr>\n",
       "  </thead>\n",
       "  <tbody>\n",
       "    <tr>\n",
       "      <th>0</th>\n",
       "      <td>0</td>\n",
       "      <td>19</td>\n",
       "      <td>19000</td>\n",
       "    </tr>\n",
       "  </tbody>\n",
       "</table>\n",
       "</div>"
      ],
      "text/plain": [
       "   Gender  Age  EstimatedSalary\n",
       "0       0   19            19000"
      ]
     },
     "execution_count": 17,
     "metadata": {},
     "output_type": "execute_result"
    }
   ],
   "source": [
    "X_feature.head(1)"
   ]
  },
  {
   "cell_type": "code",
   "execution_count": 22,
   "id": "bbcb7426",
   "metadata": {},
   "outputs": [],
   "source": [
    "#X_feature.corr()"
   ]
  },
  {
   "cell_type": "code",
   "execution_count": 23,
   "id": "3cba4bcc",
   "metadata": {},
   "outputs": [],
   "source": [
    "#sb.heatmap(X_feature.corr())\n",
    "#plt.show()"
   ]
  },
  {
   "cell_type": "markdown",
   "id": "468151f6",
   "metadata": {},
   "source": [
    "### split"
   ]
  },
  {
   "cell_type": "code",
   "execution_count": 24,
   "id": "03c84829",
   "metadata": {},
   "outputs": [],
   "source": [
    "from sklearn.model_selection import train_test_split"
   ]
  },
  {
   "cell_type": "code",
   "execution_count": 26,
   "id": "b0fb10e9",
   "metadata": {},
   "outputs": [],
   "source": [
    "xtrain,xtest,ytrain,ytest=train_test_split(X_feature,Y_purchased,\n",
    "                 test_size=.30,random_state=101)"
   ]
  },
  {
   "cell_type": "code",
   "execution_count": 29,
   "id": "c22987e3",
   "metadata": {},
   "outputs": [],
   "source": [
    "#training the model "
   ]
  },
  {
   "cell_type": "code",
   "execution_count": 28,
   "id": "a641e58f",
   "metadata": {},
   "outputs": [],
   "source": [
    "from sklearn.tree import DecisionTreeClassifier\n",
    "model_dt=DecisionTreeClassifier(criterion=\"entropy\",splitter=\"best\")\n",
    "model_learner=model_dt.fit(xtest,ytest)"
   ]
  },
  {
   "cell_type": "code",
   "execution_count": 39,
   "id": "387d9284",
   "metadata": {},
   "outputs": [],
   "source": [
    "#X_feature.head(1)"
   ]
  },
  {
   "cell_type": "markdown",
   "id": "8ce6dc79",
   "metadata": {},
   "source": [
    "###### prediction "
   ]
  },
  {
   "cell_type": "code",
   "execution_count": 35,
   "id": "3f45384e",
   "metadata": {},
   "outputs": [],
   "source": [
    "#model_learner.predict([[1,25,15000]])"
   ]
  },
  {
   "cell_type": "markdown",
   "id": "1ef0188b",
   "metadata": {},
   "source": [
    "###### accuracy "
   ]
  },
  {
   "cell_type": "code",
   "execution_count": 37,
   "id": "c9b65b28",
   "metadata": {},
   "outputs": [
    {
     "data": {
      "text/plain": [
       "100.0"
      ]
     },
     "execution_count": 37,
     "metadata": {},
     "output_type": "execute_result"
    }
   ],
   "source": [
    "YA=ytest\n",
    "YP=model_learner.predict(xtest)\n",
    "from sklearn.metrics import accuracy_score\n",
    "acc_=accuracy_score(YA,YP)*100\n",
    "acc_"
   ]
  },
  {
   "cell_type": "code",
   "execution_count": 47,
   "id": "8d8212ee",
   "metadata": {},
   "outputs": [
    {
     "data": {
      "text/plain": [
       "array([0.        , 0.47206327, 0.52793673])"
      ]
     },
     "execution_count": 47,
     "metadata": {},
     "output_type": "execute_result"
    }
   ],
   "source": [
    "model_learner.feature_importances_"
   ]
  },
  {
   "cell_type": "code",
   "execution_count": 48,
   "id": "e5187ff9",
   "metadata": {},
   "outputs": [
    {
     "data": {
      "text/plain": [
       "array([0, 1], dtype=int64)"
      ]
     },
     "execution_count": 48,
     "metadata": {},
     "output_type": "execute_result"
    }
   ],
   "source": [
    "model_learner.classes_"
   ]
  },
  {
   "cell_type": "code",
   "execution_count": 49,
   "id": "c4120811",
   "metadata": {},
   "outputs": [
    {
     "data": {
      "text/plain": [
       "array(['Gender', 'Age', 'EstimatedSalary'], dtype=object)"
      ]
     },
     "execution_count": 49,
     "metadata": {},
     "output_type": "execute_result"
    }
   ],
   "source": [
    "model_learner.feature_names_in_"
   ]
  },
  {
   "cell_type": "code",
   "execution_count": 50,
   "id": "235b9c98",
   "metadata": {},
   "outputs": [
    {
     "data": {
      "text/plain": [
       "3"
      ]
     },
     "execution_count": 50,
     "metadata": {},
     "output_type": "execute_result"
    }
   ],
   "source": [
    "model_learner.max_features_"
   ]
  },
  {
   "cell_type": "code",
   "execution_count": null,
   "id": "ad2b8648",
   "metadata": {},
   "outputs": [],
   "source": []
  }
 ],
 "metadata": {
  "kernelspec": {
   "display_name": "Python 3 (ipykernel)",
   "language": "python",
   "name": "python3"
  },
  "language_info": {
   "codemirror_mode": {
    "name": "ipython",
    "version": 3
   },
   "file_extension": ".py",
   "mimetype": "text/x-python",
   "name": "python",
   "nbconvert_exporter": "python",
   "pygments_lexer": "ipython3",
   "version": "3.9.12"
  }
 },
 "nbformat": 4,
 "nbformat_minor": 5
}
