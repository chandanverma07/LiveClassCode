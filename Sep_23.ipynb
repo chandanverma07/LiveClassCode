{
 "cells": [
  {
   "cell_type": "markdown",
   "id": "5ca25fdc",
   "metadata": {},
   "source": [
    "### this my first project"
   ]
  },
  {
   "cell_type": "code",
   "execution_count": 27,
   "id": "ad6abecf",
   "metadata": {},
   "outputs": [],
   "source": [
    "var_a=\"chandan\""
   ]
  },
  {
   "cell_type": "code",
   "execution_count": 28,
   "id": "c51f1f66",
   "metadata": {},
   "outputs": [
    {
     "data": {
      "text/plain": [
       "'chandan'"
      ]
     },
     "execution_count": 28,
     "metadata": {},
     "output_type": "execute_result"
    }
   ],
   "source": [
    "var_a"
   ]
  },
  {
   "cell_type": "code",
   "execution_count": 29,
   "id": "683a350f",
   "metadata": {},
   "outputs": [
    {
     "name": "stdout",
     "output_type": "stream",
     "text": [
      "<class 'str'>\n"
     ]
    }
   ],
   "source": [
    "print(type(var_a))"
   ]
  },
  {
   "cell_type": "code",
   "execution_count": 42,
   "id": "3e9c0cb3",
   "metadata": {},
   "outputs": [],
   "source": [
    "a_list=[10,11,12,13,33]\n",
    "a_tuple=(10,11,12,13,33)\n",
    "#a_dic={}"
   ]
  },
  {
   "cell_type": "code",
   "execution_count": 40,
   "id": "b0c4caaf",
   "metadata": {},
   "outputs": [],
   "source": [
    "#print(type(a_list))\n",
    "#print(type(a_tuple))\n",
    "#print(type(a_dic))"
   ]
  },
  {
   "cell_type": "code",
   "execution_count": 49,
   "id": "b3d42d15",
   "metadata": {},
   "outputs": [
    {
     "data": {
      "text/plain": [
       "33"
      ]
     },
     "execution_count": 49,
     "metadata": {},
     "output_type": "execute_result"
    }
   ],
   "source": [
    "a_list[len(a_list)-1]"
   ]
  },
  {
   "cell_type": "code",
   "execution_count": 45,
   "id": "073f8011",
   "metadata": {},
   "outputs": [],
   "source": [
    "#a_tuple"
   ]
  },
  {
   "cell_type": "raw",
   "id": "020038d2",
   "metadata": {},
   "source": [
    "for i in [11,12,13]:\n",
    "    print(\"Name\")\n",
    "    print(i)"
   ]
  },
  {
   "cell_type": "code",
   "execution_count": 58,
   "id": "49ae37ac",
   "metadata": {},
   "outputs": [],
   "source": [
    "#list(range(2,10,2))"
   ]
  },
  {
   "cell_type": "code",
   "execution_count": 59,
   "id": "bc9957cc",
   "metadata": {},
   "outputs": [
    {
     "data": {
      "text/plain": [
       "[10, 11, 12, 13, 33]"
      ]
     },
     "execution_count": 59,
     "metadata": {},
     "output_type": "execute_result"
    }
   ],
   "source": [
    "a_list"
   ]
  },
  {
   "cell_type": "code",
   "execution_count": 66,
   "id": "4c08010a",
   "metadata": {},
   "outputs": [
    {
     "name": "stdout",
     "output_type": "stream",
     "text": [
      "10\n",
      "11\n",
      "12\n",
      "13\n",
      "33\n"
     ]
    }
   ],
   "source": [
    "for i in range(len(a_list)):\n",
    "    #print(i)\n",
    "    print(a_list[i])"
   ]
  },
  {
   "cell_type": "code",
   "execution_count": 68,
   "id": "a13af277",
   "metadata": {},
   "outputs": [
    {
     "data": {
      "text/plain": [
       "10"
      ]
     },
     "execution_count": 68,
     "metadata": {},
     "output_type": "execute_result"
    }
   ],
   "source": [
    "a_list[-len(a_list)]"
   ]
  },
  {
   "cell_type": "code",
   "execution_count": 69,
   "id": "7bb1da0c",
   "metadata": {},
   "outputs": [
    {
     "data": {
      "text/plain": [
       "[10, 11, 12, 13, 33]"
      ]
     },
     "execution_count": 69,
     "metadata": {},
     "output_type": "execute_result"
    }
   ],
   "source": [
    "a_list[:]"
   ]
  },
  {
   "cell_type": "code",
   "execution_count": 70,
   "id": "a35e9362",
   "metadata": {},
   "outputs": [
    {
     "data": {
      "text/plain": [
       "[12, 13, 33]"
      ]
     },
     "execution_count": 70,
     "metadata": {},
     "output_type": "execute_result"
    }
   ],
   "source": [
    "a_list[2:]"
   ]
  },
  {
   "cell_type": "code",
   "execution_count": 2,
   "id": "f88bf65d",
   "metadata": {},
   "outputs": [],
   "source": [
    "data={\"Name\":[\"chandan\",\"amit\"],\"Age\":[30,35]}"
   ]
  },
  {
   "cell_type": "code",
   "execution_count": 3,
   "id": "e7fe3371",
   "metadata": {},
   "outputs": [
    {
     "data": {
      "text/plain": [
       "{'Name': ['chandan', 'amit'], 'Age': [30, 35]}"
      ]
     },
     "execution_count": 3,
     "metadata": {},
     "output_type": "execute_result"
    }
   ],
   "source": [
    "data"
   ]
  },
  {
   "cell_type": "code",
   "execution_count": 4,
   "id": "5d40820a",
   "metadata": {},
   "outputs": [
    {
     "data": {
      "text/plain": [
       "dict"
      ]
     },
     "execution_count": 4,
     "metadata": {},
     "output_type": "execute_result"
    }
   ],
   "source": [
    "type(data)"
   ]
  },
  {
   "cell_type": "code",
   "execution_count": 6,
   "id": "740cb8a3",
   "metadata": {},
   "outputs": [
    {
     "data": {
      "text/plain": [
       "dict_keys(['Name', 'Age'])"
      ]
     },
     "execution_count": 6,
     "metadata": {},
     "output_type": "execute_result"
    }
   ],
   "source": [
    "data.keys()"
   ]
  },
  {
   "cell_type": "code",
   "execution_count": 7,
   "id": "9b20f32e",
   "metadata": {},
   "outputs": [
    {
     "data": {
      "text/plain": [
       "['chandan', 'amit']"
      ]
     },
     "execution_count": 7,
     "metadata": {},
     "output_type": "execute_result"
    }
   ],
   "source": [
    "data[\"Name\"]"
   ]
  },
  {
   "cell_type": "code",
   "execution_count": 9,
   "id": "d1876b2f",
   "metadata": {},
   "outputs": [
    {
     "data": {
      "text/plain": [
       "dict_values([['chandan', 'amit'], [30, 35]])"
      ]
     },
     "execution_count": 9,
     "metadata": {},
     "output_type": "execute_result"
    }
   ],
   "source": [
    "data.values()"
   ]
  },
  {
   "cell_type": "code",
   "execution_count": 11,
   "id": "a4bb9cc6",
   "metadata": {},
   "outputs": [
    {
     "data": {
      "text/plain": [
       "dict_items([('Name', ['chandan', 'amit']), ('Age', [30, 35])])"
      ]
     },
     "execution_count": 11,
     "metadata": {},
     "output_type": "execute_result"
    }
   ],
   "source": [
    "data.items()"
   ]
  },
  {
   "cell_type": "code",
   "execution_count": null,
   "id": "5f8df6dd",
   "metadata": {},
   "outputs": [],
   "source": []
  },
  {
   "cell_type": "code",
   "execution_count": null,
   "id": "1b05d533",
   "metadata": {},
   "outputs": [],
   "source": []
  }
 ],
 "metadata": {
  "kernelspec": {
   "display_name": "Python 3 (ipykernel)",
   "language": "python",
   "name": "python3"
  },
  "language_info": {
   "codemirror_mode": {
    "name": "ipython",
    "version": 3
   },
   "file_extension": ".py",
   "mimetype": "text/x-python",
   "name": "python",
   "nbconvert_exporter": "python",
   "pygments_lexer": "ipython3",
   "version": "3.9.12"
  }
 },
 "nbformat": 4,
 "nbformat_minor": 5
}
