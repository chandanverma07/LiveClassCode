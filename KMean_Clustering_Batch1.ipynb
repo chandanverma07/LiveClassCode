{
 "cells": [
  {
   "cell_type": "code",
   "execution_count": 25,
   "id": "7b3bf3cd",
   "metadata": {},
   "outputs": [],
   "source": [
    "import pandas as pd\n",
    "import numpy as np\n",
    "import seaborn as sb\n",
    "from matplotlib import pyplot as plt \n",
    "import warnings\n",
    "warnings.filterwarnings('ignore')"
   ]
  },
  {
   "cell_type": "code",
   "execution_count": 26,
   "id": "8421995f",
   "metadata": {},
   "outputs": [],
   "source": [
    "data=pd.read_csv(r\"C:/Users/mail2/OneDrive/Desktop/Ml_Data/Data_2022/crime_data.csv\")"
   ]
  },
  {
   "cell_type": "code",
   "execution_count": 27,
   "id": "021d33e4",
   "metadata": {},
   "outputs": [],
   "source": [
    "data.rename({\"Unnamed: 0\":\"Place Name\"},axis=1,inplace=True)"
   ]
  },
  {
   "cell_type": "code",
   "execution_count": 28,
   "id": "57ca149c",
   "metadata": {},
   "outputs": [
    {
     "data": {
      "text/html": [
       "<div>\n",
       "<style scoped>\n",
       "    .dataframe tbody tr th:only-of-type {\n",
       "        vertical-align: middle;\n",
       "    }\n",
       "\n",
       "    .dataframe tbody tr th {\n",
       "        vertical-align: top;\n",
       "    }\n",
       "\n",
       "    .dataframe thead th {\n",
       "        text-align: right;\n",
       "    }\n",
       "</style>\n",
       "<table border=\"1\" class=\"dataframe\">\n",
       "  <thead>\n",
       "    <tr style=\"text-align: right;\">\n",
       "      <th></th>\n",
       "      <th>Place Name</th>\n",
       "      <th>Murder</th>\n",
       "      <th>Assault</th>\n",
       "      <th>UrbanPop</th>\n",
       "      <th>Rape</th>\n",
       "    </tr>\n",
       "  </thead>\n",
       "  <tbody>\n",
       "    <tr>\n",
       "      <th>0</th>\n",
       "      <td>Alabama</td>\n",
       "      <td>13.2</td>\n",
       "      <td>236</td>\n",
       "      <td>58</td>\n",
       "      <td>21.2</td>\n",
       "    </tr>\n",
       "  </tbody>\n",
       "</table>\n",
       "</div>"
      ],
      "text/plain": [
       "  Place Name  Murder  Assault  UrbanPop  Rape\n",
       "0    Alabama    13.2      236        58  21.2"
      ]
     },
     "execution_count": 28,
     "metadata": {},
     "output_type": "execute_result"
    }
   ],
   "source": [
    "data.head(1)"
   ]
  },
  {
   "cell_type": "code",
   "execution_count": 29,
   "id": "4c459690",
   "metadata": {},
   "outputs": [
    {
     "name": "stdout",
     "output_type": "stream",
     "text": [
      "<class 'pandas.core.frame.DataFrame'>\n",
      "RangeIndex: 50 entries, 0 to 49\n",
      "Data columns (total 5 columns):\n",
      " #   Column      Non-Null Count  Dtype  \n",
      "---  ------      --------------  -----  \n",
      " 0   Place Name  50 non-null     object \n",
      " 1   Murder      50 non-null     float64\n",
      " 2   Assault     50 non-null     int64  \n",
      " 3   UrbanPop    50 non-null     int64  \n",
      " 4   Rape        50 non-null     float64\n",
      "dtypes: float64(2), int64(2), object(1)\n",
      "memory usage: 2.1+ KB\n"
     ]
    }
   ],
   "source": [
    "data.info()"
   ]
  },
  {
   "cell_type": "code",
   "execution_count": 30,
   "id": "b8914635",
   "metadata": {},
   "outputs": [],
   "source": [
    "data[\"Place Name\"]=data[\"Place Name\"].astype('category')"
   ]
  },
  {
   "cell_type": "code",
   "execution_count": 31,
   "id": "50cc122b",
   "metadata": {},
   "outputs": [
    {
     "name": "stdout",
     "output_type": "stream",
     "text": [
      "<class 'pandas.core.frame.DataFrame'>\n",
      "RangeIndex: 50 entries, 0 to 49\n",
      "Data columns (total 5 columns):\n",
      " #   Column      Non-Null Count  Dtype   \n",
      "---  ------      --------------  -----   \n",
      " 0   Place Name  50 non-null     category\n",
      " 1   Murder      50 non-null     float64 \n",
      " 2   Assault     50 non-null     int64   \n",
      " 3   UrbanPop    50 non-null     int64   \n",
      " 4   Rape        50 non-null     float64 \n",
      "dtypes: category(1), float64(2), int64(2)\n",
      "memory usage: 4.2 KB\n"
     ]
    }
   ],
   "source": [
    "data.info()"
   ]
  },
  {
   "cell_type": "markdown",
   "id": "4507e317",
   "metadata": {},
   "source": [
    "# outlier using box plot "
   ]
  },
  {
   "cell_type": "raw",
   "id": "26271129",
   "metadata": {},
   "source": [
    "plt.figure(figsize=(10,5))\n",
    "plt.boxplot(x=\"Rape\",data=data)\n",
    "plt.title(\"Box Plot\")\n",
    "plt.ylabel(\"Rape\")\n",
    "plt.xticks(rotation=45,fontsize=10)\n",
    "plt.show()"
   ]
  },
  {
   "cell_type": "raw",
   "id": "c23160a0",
   "metadata": {},
   "source": [
    "plt.figure(figsize=(10,5))\n",
    "plt.boxplot(x=\"Murder\",data=data)\n",
    "plt.title(\"Box Plot\")\n",
    "plt.ylabel(\"Murder\")\n",
    "plt.xticks(rotation=45,fontsize=10)\n",
    "plt.show()"
   ]
  },
  {
   "cell_type": "raw",
   "id": "f14809e4",
   "metadata": {},
   "source": [
    "plt.figure(figsize=(10,5))\n",
    "plt.boxplot(x=\"Assault\",data=data)\n",
    "plt.title(\"Box Plot\")\n",
    "plt.ylabel(\"Assault\")\n",
    "plt.xticks(rotation=45,fontsize=10)\n",
    "plt.show()"
   ]
  },
  {
   "cell_type": "code",
   "execution_count": 32,
   "id": "d209e588",
   "metadata": {},
   "outputs": [
    {
     "name": "stdout",
     "output_type": "stream",
     "text": [
      "(array([ 1, 27], dtype=int64),)\n"
     ]
    }
   ],
   "source": [
    "print(np.where(data[\"Rape\"]>42))"
   ]
  },
  {
   "cell_type": "code",
   "execution_count": 37,
   "id": "8e28d990",
   "metadata": {},
   "outputs": [
    {
     "data": {
      "text/html": [
       "<div>\n",
       "<style scoped>\n",
       "    .dataframe tbody tr th:only-of-type {\n",
       "        vertical-align: middle;\n",
       "    }\n",
       "\n",
       "    .dataframe tbody tr th {\n",
       "        vertical-align: top;\n",
       "    }\n",
       "\n",
       "    .dataframe thead th {\n",
       "        text-align: right;\n",
       "    }\n",
       "</style>\n",
       "<table border=\"1\" class=\"dataframe\">\n",
       "  <thead>\n",
       "    <tr style=\"text-align: right;\">\n",
       "      <th></th>\n",
       "      <th>Place Name</th>\n",
       "      <th>Murder</th>\n",
       "      <th>Assault</th>\n",
       "      <th>UrbanPop</th>\n",
       "      <th>Rape</th>\n",
       "    </tr>\n",
       "  </thead>\n",
       "  <tbody>\n",
       "    <tr>\n",
       "      <th>0</th>\n",
       "      <td>Alabama</td>\n",
       "      <td>13.2</td>\n",
       "      <td>236</td>\n",
       "      <td>58</td>\n",
       "      <td>21.2</td>\n",
       "    </tr>\n",
       "  </tbody>\n",
       "</table>\n",
       "</div>"
      ],
      "text/plain": [
       "  Place Name  Murder  Assault  UrbanPop  Rape\n",
       "0    Alabama    13.2      236        58  21.2"
      ]
     },
     "execution_count": 37,
     "metadata": {},
     "output_type": "execute_result"
    }
   ],
   "source": [
    "data.head(1)"
   ]
  },
  {
   "cell_type": "code",
   "execution_count": 34,
   "id": "d0e19695",
   "metadata": {},
   "outputs": [],
   "source": [
    "data[\"Rape\"][1]=21"
   ]
  },
  {
   "cell_type": "code",
   "execution_count": 35,
   "id": "c87edd83",
   "metadata": {},
   "outputs": [],
   "source": [
    "data[\"Rape\"][27]=26"
   ]
  },
  {
   "cell_type": "raw",
   "id": "3ff11210",
   "metadata": {},
   "source": [
    "plt.figure(figsize=(10,5))\n",
    "plt.boxplot(x=\"Rape\",data=data)\n",
    "plt.title(\"Box Plot\")\n",
    "plt.ylabel(\"Rape\")\n",
    "plt.xticks(rotation=45,fontsize=10)\n",
    "plt.show()"
   ]
  },
  {
   "cell_type": "code",
   "execution_count": 40,
   "id": "4eb91738",
   "metadata": {},
   "outputs": [],
   "source": [
    "#Before Scalling\n",
    "mean1=data.mean()\n",
    "std1=data.std()"
   ]
  },
  {
   "cell_type": "code",
   "execution_count": 43,
   "id": "33d5d340",
   "metadata": {},
   "outputs": [],
   "source": [
    "mean_std_1=pd.DataFrame({\"Mean\":mean1,\"Std\":std1},\n",
    "                        index=data.columns[1:])"
   ]
  },
  {
   "cell_type": "code",
   "execution_count": 45,
   "id": "01a21192",
   "metadata": {},
   "outputs": [],
   "source": [
    "#mean_std_1"
   ]
  },
  {
   "cell_type": "code",
   "execution_count": 46,
   "id": "8c44af8f",
   "metadata": {},
   "outputs": [],
   "source": [
    "from sklearn.preprocessing import minmax_scale,StandardScaler"
   ]
  },
  {
   "cell_type": "code",
   "execution_count": 60,
   "id": "187c362c",
   "metadata": {},
   "outputs": [],
   "source": [
    "std_scaler=StandardScaler()\n",
    "Scaled_data=std_scaler.fit_transform(data.iloc[:,1:])\n",
    "Scaled_df=pd.DataFrame(Scaled_data)\n",
    "Scaled_df.columns=data.columns[1:]\n",
    "Scaled_df[\"Place Name\"]=data.iloc[:,0]"
   ]
  },
  {
   "cell_type": "code",
   "execution_count": 66,
   "id": "a3e346f7",
   "metadata": {},
   "outputs": [],
   "source": [
    "#mean and std after scalling\n",
    "mean2=Scaled_df.mean()\n",
    "std2=Scaled_df.std()\n",
    "#mean2=int(mean2)\n",
    "#std2=int(std2)"
   ]
  },
  {
   "cell_type": "code",
   "execution_count": 70,
   "id": "683905fb",
   "metadata": {},
   "outputs": [],
   "source": [
    "mean_std_2=pd.DataFrame({\"Mean\":mean2,\"Std\":std2},\n",
    "                        index=data.columns[1:])"
   ]
  },
  {
   "cell_type": "code",
   "execution_count": 74,
   "id": "45eb6606",
   "metadata": {},
   "outputs": [],
   "source": [
    "mean_std_2[\"Mean\"]=mean_std_2[\"Mean\"].astype('int')\n",
    "mean_std_2[\"Std\"]=mean_std_2[\"Std\"].astype('int')"
   ]
  },
  {
   "cell_type": "code",
   "execution_count": 77,
   "id": "5197218a",
   "metadata": {},
   "outputs": [],
   "source": [
    "#mean_std_2"
   ]
  },
  {
   "cell_type": "code",
   "execution_count": 78,
   "id": "03685687",
   "metadata": {},
   "outputs": [],
   "source": [
    "#mean_std_1"
   ]
  },
  {
   "cell_type": "code",
   "execution_count": null,
   "id": "386a317f",
   "metadata": {},
   "outputs": [],
   "source": []
  }
 ],
 "metadata": {
  "kernelspec": {
   "display_name": "Python 3 (ipykernel)",
   "language": "python",
   "name": "python3"
  },
  "language_info": {
   "codemirror_mode": {
    "name": "ipython",
    "version": 3
   },
   "file_extension": ".py",
   "mimetype": "text/x-python",
   "name": "python",
   "nbconvert_exporter": "python",
   "pygments_lexer": "ipython3",
   "version": "3.9.12"
  }
 },
 "nbformat": 4,
 "nbformat_minor": 5
}
