{
 "cells": [
  {
   "cell_type": "code",
   "execution_count": 1,
   "id": "c742476a",
   "metadata": {},
   "outputs": [],
   "source": [
    "import pandas as pd\n",
    "import numpy as np\n",
    "import seaborn as sb\n",
    "from matplotlib import pyplot as plt\n",
    "import warnings\n",
    "warnings.filterwarnings(\"ignore\")"
   ]
  },
  {
   "cell_type": "code",
   "execution_count": 2,
   "id": "675cc8d1",
   "metadata": {},
   "outputs": [],
   "source": [
    "data=pd.read_csv(r\"C:/Users/mail2/OneDrive/Desktop/Ml_Data/Social_Network_Ads.csv\")"
   ]
  },
  {
   "cell_type": "code",
   "execution_count": 3,
   "id": "bdad2e14",
   "metadata": {},
   "outputs": [],
   "source": [
    "data=data.drop([\"User ID\"],axis=1)"
   ]
  },
  {
   "cell_type": "code",
   "execution_count": 4,
   "id": "f530d035",
   "metadata": {},
   "outputs": [
    {
     "data": {
      "text/html": [
       "<div>\n",
       "<style scoped>\n",
       "    .dataframe tbody tr th:only-of-type {\n",
       "        vertical-align: middle;\n",
       "    }\n",
       "\n",
       "    .dataframe tbody tr th {\n",
       "        vertical-align: top;\n",
       "    }\n",
       "\n",
       "    .dataframe thead th {\n",
       "        text-align: right;\n",
       "    }\n",
       "</style>\n",
       "<table border=\"1\" class=\"dataframe\">\n",
       "  <thead>\n",
       "    <tr style=\"text-align: right;\">\n",
       "      <th></th>\n",
       "      <th>Gender</th>\n",
       "      <th>Age</th>\n",
       "      <th>EstimatedSalary</th>\n",
       "      <th>Purchased</th>\n",
       "    </tr>\n",
       "  </thead>\n",
       "  <tbody>\n",
       "    <tr>\n",
       "      <th>0</th>\n",
       "      <td>Male</td>\n",
       "      <td>19</td>\n",
       "      <td>19000</td>\n",
       "      <td>0</td>\n",
       "    </tr>\n",
       "  </tbody>\n",
       "</table>\n",
       "</div>"
      ],
      "text/plain": [
       "  Gender  Age  EstimatedSalary  Purchased\n",
       "0   Male   19            19000          0"
      ]
     },
     "execution_count": 4,
     "metadata": {},
     "output_type": "execute_result"
    }
   ],
   "source": [
    "data.head(1)"
   ]
  },
  {
   "cell_type": "code",
   "execution_count": 5,
   "id": "3f145577",
   "metadata": {},
   "outputs": [],
   "source": [
    "#Mapping"
   ]
  },
  {
   "cell_type": "code",
   "execution_count": 6,
   "id": "f2177543",
   "metadata": {},
   "outputs": [],
   "source": [
    "data[\"Gender\"]=data[\"Gender\"].map({\"Male\":0,\"Female\":1})"
   ]
  },
  {
   "cell_type": "code",
   "execution_count": 10,
   "id": "683cd78d",
   "metadata": {},
   "outputs": [],
   "source": [
    "#data.head(1)"
   ]
  },
  {
   "cell_type": "code",
   "execution_count": 8,
   "id": "839b8a06",
   "metadata": {},
   "outputs": [],
   "source": [
    "data[\"Purchased\"]=data[\"Purchased\"].map({0:\"NotPurchased\",1:\"Purchased\"})"
   ]
  },
  {
   "cell_type": "code",
   "execution_count": 11,
   "id": "e241ac87",
   "metadata": {},
   "outputs": [],
   "source": [
    "#sb.countplot(\"Purchased\",data=data)\n",
    "#plt.show()"
   ]
  },
  {
   "cell_type": "code",
   "execution_count": 12,
   "id": "a0c64f8d",
   "metadata": {},
   "outputs": [],
   "source": [
    "#split the data into feature and target"
   ]
  },
  {
   "cell_type": "code",
   "execution_count": 15,
   "id": "62eca899",
   "metadata": {},
   "outputs": [],
   "source": [
    "X_GAS=data.iloc[:,0:3]\n",
    "Y_pursched=data.iloc[:,3]"
   ]
  },
  {
   "cell_type": "code",
   "execution_count": 17,
   "id": "9de5681d",
   "metadata": {},
   "outputs": [],
   "source": [
    "#X_GAS\n",
    "#Y_pursched"
   ]
  },
  {
   "cell_type": "code",
   "execution_count": 18,
   "id": "04333b65",
   "metadata": {},
   "outputs": [],
   "source": [
    "#training and testing "
   ]
  },
  {
   "cell_type": "code",
   "execution_count": 20,
   "id": "36254f3c",
   "metadata": {},
   "outputs": [],
   "source": [
    "from sklearn.model_selection import train_test_split\n",
    "from sklearn.metrics import accuracy_score,confusion_matrix,classification_report"
   ]
  },
  {
   "cell_type": "code",
   "execution_count": 22,
   "id": "ceda8da1",
   "metadata": {},
   "outputs": [],
   "source": [
    "Xtrain,Xtest,Ytrain,Ytest=train_test_split(X_GAS,Y_pursched,test_size=.30,random_state=101)"
   ]
  },
  {
   "cell_type": "code",
   "execution_count": 24,
   "id": "2c035cad",
   "metadata": {},
   "outputs": [
    {
     "data": {
      "text/plain": [
       "(280, 3)"
      ]
     },
     "execution_count": 24,
     "metadata": {},
     "output_type": "execute_result"
    }
   ],
   "source": [
    "Xtrain.shape"
   ]
  },
  {
   "cell_type": "code",
   "execution_count": 30,
   "id": "b6e00eda",
   "metadata": {},
   "outputs": [],
   "source": [
    "#Ytrain.value_counts()"
   ]
  },
  {
   "cell_type": "code",
   "execution_count": 31,
   "id": "87565e9f",
   "metadata": {},
   "outputs": [],
   "source": [
    "#Ytest.value_counts()"
   ]
  },
  {
   "cell_type": "code",
   "execution_count": 37,
   "id": "28c306e3",
   "metadata": {},
   "outputs": [],
   "source": [
    "from sklearn.tree import DecisionTreeClassifier\n",
    "from time import time"
   ]
  },
  {
   "cell_type": "code",
   "execution_count": 43,
   "id": "ba7bcf2a",
   "metadata": {},
   "outputs": [
    {
     "name": "stdout",
     "output_type": "stream",
     "text": [
      "Toatl time for training  0.0036084651947021484\n"
     ]
    }
   ],
   "source": [
    "st=time()\n",
    "dt_model=DecisionTreeClassifier(criterion=\"entropy\",splitter=\"best\")\n",
    "dt_learner=dt_model.fit(Xtrain,Ytrain)\n",
    "et=time()\n",
    "total_time=et-st\n",
    "print(\"Toatl time for training \",total_time)"
   ]
  },
  {
   "cell_type": "code",
   "execution_count": 44,
   "id": "fa994a55",
   "metadata": {},
   "outputs": [],
   "source": [
    "#Prediction"
   ]
  },
  {
   "cell_type": "code",
   "execution_count": 46,
   "id": "04c95477",
   "metadata": {},
   "outputs": [
    {
     "data": {
      "text/plain": [
       "85.83333333333333"
      ]
     },
     "execution_count": 46,
     "metadata": {},
     "output_type": "execute_result"
    }
   ],
   "source": [
    "YP=dt_learner.predict(Xtest)\n",
    "YA=Ytest\n",
    "accuracy_score(YP,YA)*100"
   ]
  },
  {
   "cell_type": "code",
   "execution_count": 48,
   "id": "fe2b4c35",
   "metadata": {},
   "outputs": [
    {
     "data": {
      "text/plain": [
       "array([0.01941206, 0.49229072, 0.48829723])"
      ]
     },
     "execution_count": 48,
     "metadata": {},
     "output_type": "execute_result"
    }
   ],
   "source": [
    "dt_learner.feature_importances_"
   ]
  },
  {
   "cell_type": "code",
   "execution_count": 49,
   "id": "c056b261",
   "metadata": {},
   "outputs": [
    {
     "data": {
      "text/plain": [
       "array(['NotPurchased', 'Purchased'], dtype=object)"
      ]
     },
     "execution_count": 49,
     "metadata": {},
     "output_type": "execute_result"
    }
   ],
   "source": [
    "dt_learner.classes_"
   ]
  },
  {
   "cell_type": "code",
   "execution_count": 53,
   "id": "9b3c25d3",
   "metadata": {},
   "outputs": [],
   "source": [
    "#TPR,FNR"
   ]
  },
  {
   "cell_type": "code",
   "execution_count": 54,
   "id": "e05d008d",
   "metadata": {},
   "outputs": [],
   "source": [
    "C_R=classification_report(YA,YP)"
   ]
  },
  {
   "cell_type": "code",
   "execution_count": 69,
   "id": "942b43ef",
   "metadata": {},
   "outputs": [],
   "source": [
    "#print(C_R)"
   ]
  },
  {
   "cell_type": "code",
   "execution_count": 62,
   "id": "85571a49",
   "metadata": {},
   "outputs": [],
   "source": [
    "cf=confusion_matrix(YA,YP,labels=dt_model.classes_)"
   ]
  },
  {
   "cell_type": "code",
   "execution_count": 64,
   "id": "974c3c2b",
   "metadata": {},
   "outputs": [],
   "source": [
    "#print(cf)"
   ]
  },
  {
   "cell_type": "code",
   "execution_count": 65,
   "id": "d9216d6b",
   "metadata": {},
   "outputs": [],
   "source": [
    "from sklearn.metrics import ConfusionMatrixDisplay"
   ]
  },
  {
   "cell_type": "code",
   "execution_count": 67,
   "id": "77d3ac69",
   "metadata": {},
   "outputs": [],
   "source": [
    "discm=ConfusionMatrixDisplay(confusion_matrix=cf,display_labels=dt_model.classes_)"
   ]
  },
  {
   "cell_type": "code",
   "execution_count": 68,
   "id": "5a06ed48",
   "metadata": {},
   "outputs": [
    {
     "data": {
      "image/png": "[encoded data removed]",
      "text/plain": [
       "<Figure size 432x288 with 2 Axes>"
      ]
     },
     "metadata": {
      "needs_background": "light"
     },
     "output_type": "display_data"
    }
   ],
   "source": [
    "discm.plot()\n",
    "plt.show()"
   ]
  },
  {
   "cell_type": "code",
   "execution_count": null,
   "id": "1c4712e5",
   "metadata": {},
   "outputs": [],
   "source": []
  }
 ],
 "metadata": {
  "kernelspec": {
   "display_name": "Python 3 (ipykernel)",
   "language": "python",
   "name": "python3"
  },
  "language_info": {
   "codemirror_mode": {
    "name": "ipython",
    "version": 3
   },
   "file_extension": ".py",
   "mimetype": "text/x-python",
   "name": "python",
   "nbconvert_exporter": "python",
   "pygments_lexer": "ipython3",
   "version": "3.9.12"
  }
 },
 "nbformat": 4,
 "nbformat_minor": 5
}
