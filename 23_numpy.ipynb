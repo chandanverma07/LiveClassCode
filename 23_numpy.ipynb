{
 "cells": [
  {
   "cell_type": "code",
   "execution_count": 1,
   "id": "704ce690",
   "metadata": {},
   "outputs": [],
   "source": [
    "import numpy as np"
   ]
  },
  {
   "cell_type": "code",
   "execution_count": 2,
   "id": "3541fab1",
   "metadata": {},
   "outputs": [],
   "source": [
    "a=[11,12,13]"
   ]
  },
  {
   "cell_type": "code",
   "execution_count": 3,
   "id": "274c5202",
   "metadata": {},
   "outputs": [
    {
     "data": {
      "text/plain": [
       "list"
      ]
     },
     "execution_count": 3,
     "metadata": {},
     "output_type": "execute_result"
    }
   ],
   "source": [
    "type(a)"
   ]
  },
  {
   "cell_type": "code",
   "execution_count": 4,
   "id": "a6e4c210",
   "metadata": {},
   "outputs": [],
   "source": [
    "a_array=np.array(a)"
   ]
  },
  {
   "cell_type": "code",
   "execution_count": 5,
   "id": "8a2167be",
   "metadata": {},
   "outputs": [
    {
     "data": {
      "text/plain": [
       "array([11, 12, 13])"
      ]
     },
     "execution_count": 5,
     "metadata": {},
     "output_type": "execute_result"
    }
   ],
   "source": [
    "a_array"
   ]
  },
  {
   "cell_type": "code",
   "execution_count": 6,
   "id": "582759b2",
   "metadata": {},
   "outputs": [
    {
     "data": {
      "text/plain": [
       "numpy.ndarray"
      ]
     },
     "execution_count": 6,
     "metadata": {},
     "output_type": "execute_result"
    }
   ],
   "source": [
    "type(a_array)"
   ]
  },
  {
   "cell_type": "code",
   "execution_count": 7,
   "id": "4eddcd0b",
   "metadata": {},
   "outputs": [
    {
     "data": {
      "text/plain": [
       "1"
      ]
     },
     "execution_count": 7,
     "metadata": {},
     "output_type": "execute_result"
    }
   ],
   "source": [
    "a_array.ndim"
   ]
  },
  {
   "cell_type": "code",
   "execution_count": 8,
   "id": "aefb3e3a",
   "metadata": {},
   "outputs": [
    {
     "data": {
      "text/plain": [
       "3"
      ]
     },
     "execution_count": 8,
     "metadata": {},
     "output_type": "execute_result"
    }
   ],
   "source": [
    "len(a_array)"
   ]
  },
  {
   "cell_type": "code",
   "execution_count": 9,
   "id": "556e0b01",
   "metadata": {},
   "outputs": [
    {
     "data": {
      "text/plain": [
       "(3,)"
      ]
     },
     "execution_count": 9,
     "metadata": {},
     "output_type": "execute_result"
    }
   ],
   "source": [
    "a_array.shape"
   ]
  },
  {
   "cell_type": "code",
   "execution_count": 12,
   "id": "382dd6de",
   "metadata": {},
   "outputs": [
    {
     "data": {
      "text/plain": [
       "array([13, 12, 11])"
      ]
     },
     "execution_count": 12,
     "metadata": {},
     "output_type": "execute_result"
    }
   ],
   "source": [
    "a_array[::-1]"
   ]
  },
  {
   "cell_type": "markdown",
   "id": "516d67f0",
   "metadata": {},
   "source": [
    "### 2D ARRAY"
   ]
  },
  {
   "cell_type": "code",
   "execution_count": 13,
   "id": "1c8cb0ca",
   "metadata": {},
   "outputs": [],
   "source": [
    "d2_array=np.array([[11,12,13],[14,15,16],[17,18,19]])"
   ]
  },
  {
   "cell_type": "code",
   "execution_count": 39,
   "id": "7faa145f",
   "metadata": {},
   "outputs": [],
   "source": [
    "#d2_array"
   ]
  },
  {
   "cell_type": "code",
   "execution_count": 19,
   "id": "06b40a94",
   "metadata": {},
   "outputs": [],
   "source": [
    "#len(d2_array)"
   ]
  },
  {
   "cell_type": "code",
   "execution_count": 20,
   "id": "4884fa26",
   "metadata": {},
   "outputs": [],
   "source": [
    "#d2_array.shape"
   ]
  },
  {
   "cell_type": "code",
   "execution_count": 21,
   "id": "08778b23",
   "metadata": {},
   "outputs": [],
   "source": [
    "#d2_array.size"
   ]
  },
  {
   "cell_type": "code",
   "execution_count": 22,
   "id": "be75f07c",
   "metadata": {},
   "outputs": [],
   "source": [
    "#d2_array.dtype"
   ]
  },
  {
   "cell_type": "code",
   "execution_count": 26,
   "id": "13613df5",
   "metadata": {},
   "outputs": [],
   "source": [
    "#d2_array[:,0]"
   ]
  },
  {
   "cell_type": "code",
   "execution_count": 27,
   "id": "fa7a251d",
   "metadata": {},
   "outputs": [],
   "source": [
    "#d2_array[1:3,1:3]"
   ]
  },
  {
   "cell_type": "code",
   "execution_count": 38,
   "id": "34ecfa22",
   "metadata": {},
   "outputs": [],
   "source": [
    "#d2_array[0:3:2,0:3:2]"
   ]
  },
  {
   "cell_type": "code",
   "execution_count": 34,
   "id": "e02f7b00",
   "metadata": {},
   "outputs": [],
   "source": [
    "#d2_array"
   ]
  },
  {
   "cell_type": "code",
   "execution_count": 35,
   "id": "8e2fab20",
   "metadata": {},
   "outputs": [],
   "source": [
    "#d2_array.sum()"
   ]
  },
  {
   "cell_type": "code",
   "execution_count": 36,
   "id": "b40edfbf",
   "metadata": {},
   "outputs": [],
   "source": [
    "#d2_array.sum(axis=0)"
   ]
  },
  {
   "cell_type": "code",
   "execution_count": 37,
   "id": "e0dd0d71",
   "metadata": {},
   "outputs": [],
   "source": [
    "#d2_array.sum(axis=1)"
   ]
  },
  {
   "cell_type": "code",
   "execution_count": null,
   "id": "407dd186",
   "metadata": {},
   "outputs": [],
   "source": []
  }
 ],
 "metadata": {
  "kernelspec": {
   "display_name": "Python 3 (ipykernel)",
   "language": "python",
   "name": "python3"
  },
  "language_info": {
   "codemirror_mode": {
    "name": "ipython",
    "version": 3
   },
   "file_extension": ".py",
   "mimetype": "text/x-python",
   "name": "python",
   "nbconvert_exporter": "python",
   "pygments_lexer": "ipython3",
   "version": "3.9.12"
  }
 },
 "nbformat": 4,
 "nbformat_minor": 5
}
