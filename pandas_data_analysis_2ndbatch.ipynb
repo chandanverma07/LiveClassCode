{
 "cells": [
  {
   "cell_type": "code",
   "execution_count": 1,
   "id": "6a79ae99",
   "metadata": {},
   "outputs": [],
   "source": [
    "import pandas as pd\n",
    "import numpy as np"
   ]
  },
  {
   "cell_type": "code",
   "execution_count": 2,
   "id": "297790a3",
   "metadata": {},
   "outputs": [],
   "source": [
    "#reading file from folder "
   ]
  },
  {
   "cell_type": "code",
   "execution_count": 3,
   "id": "ce1ecbfb",
   "metadata": {},
   "outputs": [],
   "source": [
    "mydata=pd.read_excel(r\"C:\\Users\\mail2\\OneDrive\\Desktop\\Ml_Data\\Population_Summary.xlsx\")"
   ]
  },
  {
   "cell_type": "code",
   "execution_count": 5,
   "id": "1b26f9bf",
   "metadata": {},
   "outputs": [
    {
     "data": {
      "text/plain": [
       "(35, 9)"
      ]
     },
     "execution_count": 5,
     "metadata": {},
     "output_type": "execute_result"
    }
   ],
   "source": [
    "mydata.shape"
   ]
  },
  {
   "cell_type": "code",
   "execution_count": 10,
   "id": "637faae0",
   "metadata": {},
   "outputs": [],
   "source": [
    "#mydata.head()\n",
    "#mydata.tail()\n",
    "#mydata.sample(5)"
   ]
  },
  {
   "cell_type": "code",
   "execution_count": 12,
   "id": "92364c8e",
   "metadata": {},
   "outputs": [
    {
     "data": {
      "text/html": [
       "<div>\n",
       "<style scoped>\n",
       "    .dataframe tbody tr th:only-of-type {\n",
       "        vertical-align: middle;\n",
       "    }\n",
       "\n",
       "    .dataframe tbody tr th {\n",
       "        vertical-align: top;\n",
       "    }\n",
       "\n",
       "    .dataframe thead th {\n",
       "        text-align: right;\n",
       "    }\n",
       "</style>\n",
       "<table border=\"1\" class=\"dataframe\">\n",
       "  <thead>\n",
       "    <tr style=\"text-align: right;\">\n",
       "      <th></th>\n",
       "      <th>Rank</th>\n",
       "      <th>State_UT</th>\n",
       "      <th>Population</th>\n",
       "      <th>Rulal</th>\n",
       "      <th>Urban</th>\n",
       "      <th>Share</th>\n",
       "      <th>Growth</th>\n",
       "      <th>Country</th>\n",
       "      <th>World_Rank</th>\n",
       "    </tr>\n",
       "  </thead>\n",
       "  <tbody>\n",
       "    <tr>\n",
       "      <th>0</th>\n",
       "      <td>1</td>\n",
       "      <td>Uttar Pradesh</td>\n",
       "      <td>199812341</td>\n",
       "      <td>77.73</td>\n",
       "      <td>22.27</td>\n",
       "      <td>16.5</td>\n",
       "      <td>20.23</td>\n",
       "      <td>Brazil</td>\n",
       "      <td>5</td>\n",
       "    </tr>\n",
       "  </tbody>\n",
       "</table>\n",
       "</div>"
      ],
      "text/plain": [
       "  Rank       State_UT  Population  Rulal  Urban  Share  Growth Country  \\\n",
       "0    1  Uttar Pradesh   199812341  77.73  22.27   16.5   20.23  Brazil   \n",
       "\n",
       "   World_Rank  \n",
       "0           5  "
      ]
     },
     "execution_count": 12,
     "metadata": {},
     "output_type": "execute_result"
    }
   ],
   "source": [
    "mydata.head(1)"
   ]
  },
  {
   "cell_type": "code",
   "execution_count": 17,
   "id": "6b81c14a",
   "metadata": {},
   "outputs": [],
   "source": [
    "r=mydata[[\"State_UT\",\"Population\"]]"
   ]
  },
  {
   "cell_type": "code",
   "execution_count": 20,
   "id": "1dab8505",
   "metadata": {},
   "outputs": [],
   "source": [
    "#state information with some condition"
   ]
  },
  {
   "cell_type": "code",
   "execution_count": 21,
   "id": "f42bcfc0",
   "metadata": {},
   "outputs": [
    {
     "data": {
      "text/plain": [
       "-0.58"
      ]
     },
     "execution_count": 21,
     "metadata": {},
     "output_type": "execute_result"
    }
   ],
   "source": [
    "mydata[\"Growth\"].min()"
   ]
  },
  {
   "cell_type": "code",
   "execution_count": 22,
   "id": "6c9864da",
   "metadata": {},
   "outputs": [
    {
     "data": {
      "text/html": [
       "<div>\n",
       "<style scoped>\n",
       "    .dataframe tbody tr th:only-of-type {\n",
       "        vertical-align: middle;\n",
       "    }\n",
       "\n",
       "    .dataframe tbody tr th {\n",
       "        vertical-align: top;\n",
       "    }\n",
       "\n",
       "    .dataframe thead th {\n",
       "        text-align: right;\n",
       "    }\n",
       "</style>\n",
       "<table border=\"1\" class=\"dataframe\">\n",
       "  <thead>\n",
       "    <tr style=\"text-align: right;\">\n",
       "      <th></th>\n",
       "      <th>Rank</th>\n",
       "      <th>State_UT</th>\n",
       "      <th>Population</th>\n",
       "      <th>Rulal</th>\n",
       "      <th>Urban</th>\n",
       "      <th>Share</th>\n",
       "      <th>Growth</th>\n",
       "      <th>Country</th>\n",
       "      <th>World_Rank</th>\n",
       "    </tr>\n",
       "  </thead>\n",
       "  <tbody>\n",
       "    <tr>\n",
       "      <th>24</th>\n",
       "      <td>24</td>\n",
       "      <td>Nagaland</td>\n",
       "      <td>1978502</td>\n",
       "      <td>71.14</td>\n",
       "      <td>28.86</td>\n",
       "      <td>0.16</td>\n",
       "      <td>-0.58</td>\n",
       "      <td>Botswana</td>\n",
       "      <td>148</td>\n",
       "    </tr>\n",
       "  </tbody>\n",
       "</table>\n",
       "</div>"
      ],
      "text/plain": [
       "   Rank  State_UT  Population  Rulal  Urban  Share  Growth   Country  \\\n",
       "24   24  Nagaland     1978502  71.14  28.86   0.16   -0.58  Botswana   \n",
       "\n",
       "    World_Rank  \n",
       "24         148  "
      ]
     },
     "execution_count": 22,
     "metadata": {},
     "output_type": "execute_result"
    }
   ],
   "source": [
    "mydata[mydata[\"Growth\"]==mydata[\"Growth\"].min()]"
   ]
  },
  {
   "cell_type": "code",
   "execution_count": 23,
   "id": "e07b5fc0",
   "metadata": {},
   "outputs": [
    {
     "data": {
      "text/plain": [
       "1210854977"
      ]
     },
     "execution_count": 23,
     "metadata": {},
     "output_type": "execute_result"
    }
   ],
   "source": [
    "mydata[\"Population\"].sum()"
   ]
  },
  {
   "cell_type": "code",
   "execution_count": 24,
   "id": "d30ce18b",
   "metadata": {},
   "outputs": [],
   "source": [
    "mydata[\"%Population\"]=mydata[\"Population\"]/mydata[\"Population\"].sum()"
   ]
  },
  {
   "cell_type": "code",
   "execution_count": 26,
   "id": "96f4ab03",
   "metadata": {},
   "outputs": [],
   "source": [
    "#mydata"
   ]
  },
  {
   "cell_type": "code",
   "execution_count": 28,
   "id": "d816483d",
   "metadata": {},
   "outputs": [],
   "source": [
    "#mydata.describe()"
   ]
  },
  {
   "cell_type": "code",
   "execution_count": 30,
   "id": "650ec2fa",
   "metadata": {},
   "outputs": [],
   "source": [
    "#mydata.info()"
   ]
  },
  {
   "cell_type": "code",
   "execution_count": 31,
   "id": "6c0a9800",
   "metadata": {},
   "outputs": [
    {
     "data": {
      "text/html": [
       "<div>\n",
       "<style scoped>\n",
       "    .dataframe tbody tr th:only-of-type {\n",
       "        vertical-align: middle;\n",
       "    }\n",
       "\n",
       "    .dataframe tbody tr th {\n",
       "        vertical-align: top;\n",
       "    }\n",
       "\n",
       "    .dataframe thead th {\n",
       "        text-align: right;\n",
       "    }\n",
       "</style>\n",
       "<table border=\"1\" class=\"dataframe\">\n",
       "  <thead>\n",
       "    <tr style=\"text-align: right;\">\n",
       "      <th></th>\n",
       "      <th>Rank</th>\n",
       "      <th>State_UT</th>\n",
       "      <th>Population</th>\n",
       "      <th>Rulal</th>\n",
       "      <th>Urban</th>\n",
       "      <th>Share</th>\n",
       "      <th>Growth</th>\n",
       "      <th>Country</th>\n",
       "      <th>World_Rank</th>\n",
       "      <th>%Population</th>\n",
       "    </tr>\n",
       "  </thead>\n",
       "  <tbody>\n",
       "    <tr>\n",
       "      <th>0</th>\n",
       "      <td>1</td>\n",
       "      <td>Uttar Pradesh</td>\n",
       "      <td>199812341</td>\n",
       "      <td>77.73</td>\n",
       "      <td>22.27</td>\n",
       "      <td>16.5</td>\n",
       "      <td>20.23</td>\n",
       "      <td>Brazil</td>\n",
       "      <td>5</td>\n",
       "      <td>0.165018</td>\n",
       "    </tr>\n",
       "  </tbody>\n",
       "</table>\n",
       "</div>"
      ],
      "text/plain": [
       "  Rank       State_UT  Population  Rulal  Urban  Share  Growth Country  \\\n",
       "0    1  Uttar Pradesh   199812341  77.73  22.27   16.5   20.23  Brazil   \n",
       "\n",
       "   World_Rank  %Population  \n",
       "0           5     0.165018  "
      ]
     },
     "execution_count": 31,
     "metadata": {},
     "output_type": "execute_result"
    }
   ],
   "source": [
    "mydata.head(1)"
   ]
  },
  {
   "cell_type": "code",
   "execution_count": 37,
   "id": "68f304d1",
   "metadata": {},
   "outputs": [
    {
     "data": {
      "text/plain": [
       "Population    1.210855e+09\n",
       "Rulal         2.140620e+03\n",
       "Urban         1.359380e+03\n",
       "dtype: float64"
      ]
     },
     "execution_count": 37,
     "metadata": {},
     "output_type": "execute_result"
    }
   ],
   "source": [
    "#mydata.iloc[:5,2:5]\n",
    "#mydata.loc[:5,\"State_UT\":\"Urban\"]\n",
    "mydata.iloc[:,2:5].sum(axis=0)"
   ]
  },
  {
   "cell_type": "code",
   "execution_count": 38,
   "id": "603e0a4b",
   "metadata": {},
   "outputs": [
    {
     "data": {
      "text/plain": [
       "64473"
      ]
     },
     "execution_count": 38,
     "metadata": {},
     "output_type": "execute_result"
    }
   ],
   "source": [
    "mydata[\"Population\"].min()"
   ]
  },
  {
   "cell_type": "code",
   "execution_count": 39,
   "id": "fff76a96",
   "metadata": {},
   "outputs": [
    {
     "data": {
      "text/plain": [
       "199812341"
      ]
     },
     "execution_count": 39,
     "metadata": {},
     "output_type": "execute_result"
    }
   ],
   "source": [
    "mydata[\"Population\"].max()"
   ]
  },
  {
   "cell_type": "code",
   "execution_count": 43,
   "id": "1a204add",
   "metadata": {},
   "outputs": [
    {
     "data": {
      "text/html": [
       "<div>\n",
       "<style scoped>\n",
       "    .dataframe tbody tr th:only-of-type {\n",
       "        vertical-align: middle;\n",
       "    }\n",
       "\n",
       "    .dataframe tbody tr th {\n",
       "        vertical-align: top;\n",
       "    }\n",
       "\n",
       "    .dataframe thead th {\n",
       "        text-align: right;\n",
       "    }\n",
       "</style>\n",
       "<table border=\"1\" class=\"dataframe\">\n",
       "  <thead>\n",
       "    <tr style=\"text-align: right;\">\n",
       "      <th></th>\n",
       "      <th>Rank</th>\n",
       "      <th>State_UT</th>\n",
       "      <th>Population</th>\n",
       "      <th>Rulal</th>\n",
       "      <th>Urban</th>\n",
       "      <th>Share</th>\n",
       "      <th>Growth</th>\n",
       "      <th>Country</th>\n",
       "      <th>World_Rank</th>\n",
       "      <th>%Population</th>\n",
       "    </tr>\n",
       "  </thead>\n",
       "  <tbody>\n",
       "    <tr>\n",
       "      <th>0</th>\n",
       "      <td>1</td>\n",
       "      <td>Uttar Pradesh</td>\n",
       "      <td>199812341</td>\n",
       "      <td>77.73</td>\n",
       "      <td>22.27</td>\n",
       "      <td>16.5</td>\n",
       "      <td>20.23</td>\n",
       "      <td>Brazil</td>\n",
       "      <td>5</td>\n",
       "      <td>0.165018</td>\n",
       "    </tr>\n",
       "  </tbody>\n",
       "</table>\n",
       "</div>"
      ],
      "text/plain": [
       "  Rank       State_UT  Population  Rulal  Urban  Share  Growth Country  \\\n",
       "0    1  Uttar Pradesh   199812341  77.73  22.27   16.5   20.23  Brazil   \n",
       "\n",
       "   World_Rank  %Population  \n",
       "0           5     0.165018  "
      ]
     },
     "execution_count": 43,
     "metadata": {},
     "output_type": "execute_result"
    }
   ],
   "source": [
    "mydata[mydata[\"Population\"]==mydata[\"Population\"].max()]"
   ]
  },
  {
   "cell_type": "code",
   "execution_count": 44,
   "id": "ce13e119",
   "metadata": {},
   "outputs": [
    {
     "data": {
      "text/html": [
       "<div>\n",
       "<style scoped>\n",
       "    .dataframe tbody tr th:only-of-type {\n",
       "        vertical-align: middle;\n",
       "    }\n",
       "\n",
       "    .dataframe tbody tr th {\n",
       "        vertical-align: top;\n",
       "    }\n",
       "\n",
       "    .dataframe thead th {\n",
       "        text-align: right;\n",
       "    }\n",
       "</style>\n",
       "<table border=\"1\" class=\"dataframe\">\n",
       "  <thead>\n",
       "    <tr style=\"text-align: right;\">\n",
       "      <th></th>\n",
       "      <th>Rank</th>\n",
       "      <th>State_UT</th>\n",
       "      <th>Population</th>\n",
       "      <th>Rulal</th>\n",
       "      <th>Urban</th>\n",
       "      <th>Share</th>\n",
       "      <th>Growth</th>\n",
       "      <th>Country</th>\n",
       "      <th>World_Rank</th>\n",
       "      <th>%Population</th>\n",
       "    </tr>\n",
       "  </thead>\n",
       "  <tbody>\n",
       "    <tr>\n",
       "      <th>34</th>\n",
       "      <td>UT6</td>\n",
       "      <td>Lakshadweep</td>\n",
       "      <td>64473</td>\n",
       "      <td>21.93</td>\n",
       "      <td>78.07</td>\n",
       "      <td>0.01</td>\n",
       "      <td>6.3</td>\n",
       "      <td>Bermuda</td>\n",
       "      <td>205</td>\n",
       "      <td>0.000053</td>\n",
       "    </tr>\n",
       "  </tbody>\n",
       "</table>\n",
       "</div>"
      ],
      "text/plain": [
       "   Rank     State_UT  Population  Rulal  Urban  Share  Growth  Country  \\\n",
       "34  UT6  Lakshadweep       64473  21.93  78.07   0.01     6.3  Bermuda   \n",
       "\n",
       "    World_Rank  %Population  \n",
       "34         205     0.000053  "
      ]
     },
     "execution_count": 44,
     "metadata": {},
     "output_type": "execute_result"
    }
   ],
   "source": [
    "mydata[mydata[\"Population\"]==mydata[\"Population\"].min()]"
   ]
  },
  {
   "cell_type": "code",
   "execution_count": null,
   "id": "48c4ccf8",
   "metadata": {},
   "outputs": [],
   "source": []
  }
 ],
 "metadata": {
  "kernelspec": {
   "display_name": "Python 3 (ipykernel)",
   "language": "python",
   "name": "python3"
  },
  "language_info": {
   "codemirror_mode": {
    "name": "ipython",
    "version": 3
   },
   "file_extension": ".py",
   "mimetype": "text/x-python",
   "name": "python",
   "nbconvert_exporter": "python",
   "pygments_lexer": "ipython3",
   "version": "3.9.12"
  }
 },
 "nbformat": 4,
 "nbformat_minor": 5
}
