{
 "cells": [
  {
   "cell_type": "markdown",
   "id": "e9110e20",
   "metadata": {},
   "source": [
    "### Numpy\n",
    "# Array (ndarray)"
   ]
  },
  {
   "cell_type": "code",
   "execution_count": 1,
   "id": "707021df",
   "metadata": {},
   "outputs": [],
   "source": [
    "import numpy as np"
   ]
  },
  {
   "cell_type": "code",
   "execution_count": 2,
   "id": "314329e8",
   "metadata": {},
   "outputs": [
    {
     "name": "stdout",
     "output_type": "stream",
     "text": [
      "1.21.5\n"
     ]
    }
   ],
   "source": [
    "print(np.__version__)"
   ]
  },
  {
   "cell_type": "code",
   "execution_count": 21,
   "id": "40eb5401",
   "metadata": {},
   "outputs": [],
   "source": [
    "#a_list=[11,12,13,14]\n",
    "#type(a_list)"
   ]
  },
  {
   "cell_type": "code",
   "execution_count": 22,
   "id": "fc503e12",
   "metadata": {},
   "outputs": [],
   "source": [
    "#a_array=np.array(a_list)"
   ]
  },
  {
   "cell_type": "code",
   "execution_count": 23,
   "id": "6d19fd37",
   "metadata": {},
   "outputs": [],
   "source": [
    "#a_array"
   ]
  },
  {
   "cell_type": "code",
   "execution_count": 24,
   "id": "b13a1504",
   "metadata": {},
   "outputs": [],
   "source": [
    "#type(a_array)"
   ]
  },
  {
   "cell_type": "code",
   "execution_count": 19,
   "id": "1786c512",
   "metadata": {},
   "outputs": [],
   "source": [
    "#a_array.ndim"
   ]
  },
  {
   "cell_type": "code",
   "execution_count": 18,
   "id": "d471ab81",
   "metadata": {},
   "outputs": [],
   "source": [
    "#len(a_list)"
   ]
  },
  {
   "cell_type": "code",
   "execution_count": 17,
   "id": "ee50f91e",
   "metadata": {},
   "outputs": [],
   "source": [
    "#a_array.shape"
   ]
  },
  {
   "cell_type": "code",
   "execution_count": 16,
   "id": "73a9a725",
   "metadata": {},
   "outputs": [],
   "source": [
    "#a_array.size"
   ]
  },
  {
   "cell_type": "code",
   "execution_count": 15,
   "id": "df6e953c",
   "metadata": {},
   "outputs": [],
   "source": [
    "#a_array[:]"
   ]
  },
  {
   "cell_type": "code",
   "execution_count": 14,
   "id": "b244ffb4",
   "metadata": {},
   "outputs": [],
   "source": [
    "#a_array[:3]"
   ]
  },
  {
   "cell_type": "markdown",
   "id": "aa6ce64b",
   "metadata": {},
   "source": [
    "#### 2d array [[]] "
   ]
  },
  {
   "cell_type": "code",
   "execution_count": 26,
   "id": "611d07b5",
   "metadata": {},
   "outputs": [],
   "source": [
    "array_2d=np.array([[11,12,13],[14,15,16],[17,18,19]])"
   ]
  },
  {
   "cell_type": "code",
   "execution_count": 34,
   "id": "dd8881b8",
   "metadata": {},
   "outputs": [],
   "source": [
    "#array_2d"
   ]
  },
  {
   "cell_type": "code",
   "execution_count": 31,
   "id": "536f4a70",
   "metadata": {},
   "outputs": [],
   "source": [
    "#len(array_2d)"
   ]
  },
  {
   "cell_type": "code",
   "execution_count": 32,
   "id": "bf8a9146",
   "metadata": {},
   "outputs": [],
   "source": [
    "#array_2d.shape"
   ]
  },
  {
   "cell_type": "code",
   "execution_count": 33,
   "id": "7421eab1",
   "metadata": {},
   "outputs": [],
   "source": [
    "#array_2d.ndim"
   ]
  },
  {
   "cell_type": "code",
   "execution_count": 35,
   "id": "730ecf26",
   "metadata": {},
   "outputs": [
    {
     "data": {
      "text/plain": [
       "array([[11, 12, 13],\n",
       "       [14, 15, 16],\n",
       "       [17, 18, 19]])"
      ]
     },
     "execution_count": 35,
     "metadata": {},
     "output_type": "execute_result"
    }
   ],
   "source": [
    "array_2d"
   ]
  },
  {
   "cell_type": "code",
   "execution_count": 36,
   "id": "80acf78c",
   "metadata": {},
   "outputs": [
    {
     "data": {
      "text/plain": [
       "array([[11, 12, 13],\n",
       "       [14, 15, 16],\n",
       "       [17, 18, 19]])"
      ]
     },
     "execution_count": 36,
     "metadata": {},
     "output_type": "execute_result"
    }
   ],
   "source": [
    "array_2d[:,:]"
   ]
  },
  {
   "cell_type": "markdown",
   "id": "fa756774",
   "metadata": {},
   "source": [
    "# matplotlib (graph plotting)"
   ]
  },
  {
   "cell_type": "code",
   "execution_count": 38,
   "id": "809e6d91",
   "metadata": {},
   "outputs": [],
   "source": [
    "from matplotlib import pyplot as  plt"
   ]
  },
  {
   "cell_type": "code",
   "execution_count": 49,
   "id": "4a301f31",
   "metadata": {},
   "outputs": [],
   "source": [
    "xx=list(range(0,10,1))\n",
    "x=np.linspace(0,np.pi,10)\n",
    "y=np.sin(x)\n",
    "yy=np.cos(x)"
   ]
  },
  {
   "cell_type": "code",
   "execution_count": 54,
   "id": "27a5741b",
   "metadata": {},
   "outputs": [
    {
     "data": {
      "image/png": "[encoded data removed]",
      "text/plain": [
       "<Figure size 432x288 with 1 Axes>"
      ]
     },
     "metadata": {
      "needs_background": "light"
     },
     "output_type": "display_data"
    }
   ],
   "source": [
    "plt.plot(xx,y,'g*')\n",
    "plt.plot(xx,yy)\n",
    "plt.title(\"sin vs cos\")\n",
    "plt.xlabel(\"x..axis\")\n",
    "plt.ylabel(\"y...axis\")\n",
    "plt.legend([\"sin\",\"cos\"])\n",
    "plt.show()"
   ]
  },
  {
   "cell_type": "code",
   "execution_count": null,
   "id": "842ffb5d",
   "metadata": {},
   "outputs": [],
   "source": []
  }
 ],
 "metadata": {
  "kernelspec": {
   "display_name": "Python 3 (ipykernel)",
   "language": "python",
   "name": "python3"
  },
  "language_info": {
   "codemirror_mode": {
    "name": "ipython",
    "version": 3
   },
   "file_extension": ".py",
   "mimetype": "text/x-python",
   "name": "python",
   "nbconvert_exporter": "python",
   "pygments_lexer": "ipython3",
   "version": "3.9.12"
  }
 },
 "nbformat": 4,
 "nbformat_minor": 5
}
