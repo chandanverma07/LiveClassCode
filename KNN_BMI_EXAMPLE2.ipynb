{
 "cells": [
  {
   "cell_type": "code",
   "execution_count": 1,
   "id": "01005f03",
   "metadata": {},
   "outputs": [],
   "source": [
    "import numpy as np\n",
    "import pandas as pd\n",
    "import seaborn as sb\n",
    "from matplotlib import pyplot as plt"
   ]
  },
  {
   "cell_type": "code",
   "execution_count": 2,
   "id": "e7db970b",
   "metadata": {},
   "outputs": [],
   "source": [
    "data=pd.read_csv(r\"C:/Users/mail2/OneDrive/Desktop/Ml_Data/Bmi_male_female.csv\")"
   ]
  },
  {
   "cell_type": "code",
   "execution_count": 4,
   "id": "544a2456",
   "metadata": {},
   "outputs": [
    {
     "data": {
      "text/html": [
       "<div>\n",
       "<style scoped>\n",
       "    .dataframe tbody tr th:only-of-type {\n",
       "        vertical-align: middle;\n",
       "    }\n",
       "\n",
       "    .dataframe tbody tr th {\n",
       "        vertical-align: top;\n",
       "    }\n",
       "\n",
       "    .dataframe thead th {\n",
       "        text-align: right;\n",
       "    }\n",
       "</style>\n",
       "<table border=\"1\" class=\"dataframe\">\n",
       "  <thead>\n",
       "    <tr style=\"text-align: right;\">\n",
       "      <th></th>\n",
       "      <th>Gender</th>\n",
       "      <th>Height</th>\n",
       "      <th>Weight</th>\n",
       "      <th>Index</th>\n",
       "    </tr>\n",
       "  </thead>\n",
       "  <tbody>\n",
       "    <tr>\n",
       "      <th>0</th>\n",
       "      <td>Male</td>\n",
       "      <td>174</td>\n",
       "      <td>96</td>\n",
       "      <td>4</td>\n",
       "    </tr>\n",
       "  </tbody>\n",
       "</table>\n",
       "</div>"
      ],
      "text/plain": [
       "  Gender  Height  Weight  Index\n",
       "0   Male     174      96      4"
      ]
     },
     "execution_count": 4,
     "metadata": {},
     "output_type": "execute_result"
    }
   ],
   "source": [
    "data.head(1)"
   ]
  },
  {
   "cell_type": "code",
   "execution_count": 5,
   "id": "a76d242f",
   "metadata": {},
   "outputs": [
    {
     "data": {
      "text/plain": [
       "(500, 4)"
      ]
     },
     "execution_count": 5,
     "metadata": {},
     "output_type": "execute_result"
    }
   ],
   "source": [
    "data.shape"
   ]
  },
  {
   "cell_type": "code",
   "execution_count": 10,
   "id": "c07c83db",
   "metadata": {},
   "outputs": [],
   "source": [
    "X_GHW=data.iloc[:,0:3]\n",
    "Y_target=data.iloc[:,3]"
   ]
  },
  {
   "cell_type": "code",
   "execution_count": 11,
   "id": "f3f983a3",
   "metadata": {},
   "outputs": [],
   "source": [
    "#X_GHW"
   ]
  },
  {
   "cell_type": "code",
   "execution_count": 12,
   "id": "75ab8296",
   "metadata": {},
   "outputs": [
    {
     "name": "stdout",
     "output_type": "stream",
     "text": [
      "type of X_GHW <class 'pandas.core.frame.DataFrame'> and type of Y_target <class 'pandas.core.series.Series'>\n"
     ]
    }
   ],
   "source": [
    "print(\"type of X_GHW {} and type of Y_target {}\".format(type(X_GHW),type(Y_target)))"
   ]
  },
  {
   "cell_type": "code",
   "execution_count": 14,
   "id": "433e5cdb",
   "metadata": {},
   "outputs": [
    {
     "data": {
      "text/html": [
       "<div>\n",
       "<style scoped>\n",
       "    .dataframe tbody tr th:only-of-type {\n",
       "        vertical-align: middle;\n",
       "    }\n",
       "\n",
       "    .dataframe tbody tr th {\n",
       "        vertical-align: top;\n",
       "    }\n",
       "\n",
       "    .dataframe thead th {\n",
       "        text-align: right;\n",
       "    }\n",
       "</style>\n",
       "<table border=\"1\" class=\"dataframe\">\n",
       "  <thead>\n",
       "    <tr style=\"text-align: right;\">\n",
       "      <th></th>\n",
       "      <th>Gender</th>\n",
       "      <th>Height</th>\n",
       "      <th>Weight</th>\n",
       "    </tr>\n",
       "  </thead>\n",
       "  <tbody>\n",
       "    <tr>\n",
       "      <th>0</th>\n",
       "      <td>Male</td>\n",
       "      <td>174</td>\n",
       "      <td>96</td>\n",
       "    </tr>\n",
       "  </tbody>\n",
       "</table>\n",
       "</div>"
      ],
      "text/plain": [
       "  Gender  Height  Weight\n",
       "0   Male     174      96"
      ]
     },
     "execution_count": 14,
     "metadata": {},
     "output_type": "execute_result"
    }
   ],
   "source": [
    "X_GHW.head(1)"
   ]
  },
  {
   "cell_type": "code",
   "execution_count": 19,
   "id": "6d2207d2",
   "metadata": {},
   "outputs": [],
   "source": [
    "#sb.countplot(x=\"Gender\",data=data,hue='Index')\n",
    "#plt.show()"
   ]
  },
  {
   "cell_type": "code",
   "execution_count": 20,
   "id": "bd910302",
   "metadata": {},
   "outputs": [],
   "source": [
    "#Encode male:0 ,feamle :1"
   ]
  },
  {
   "cell_type": "code",
   "execution_count": 25,
   "id": "b7952ef6",
   "metadata": {},
   "outputs": [],
   "source": [
    "X_GHW.Gender=X_GHW.Gender.map({\"Male\":0,\"Female\":1})"
   ]
  },
  {
   "cell_type": "code",
   "execution_count": 27,
   "id": "ab1ff4a5",
   "metadata": {},
   "outputs": [
    {
     "data": {
      "text/html": [
       "<div>\n",
       "<style scoped>\n",
       "    .dataframe tbody tr th:only-of-type {\n",
       "        vertical-align: middle;\n",
       "    }\n",
       "\n",
       "    .dataframe tbody tr th {\n",
       "        vertical-align: top;\n",
       "    }\n",
       "\n",
       "    .dataframe thead th {\n",
       "        text-align: right;\n",
       "    }\n",
       "</style>\n",
       "<table border=\"1\" class=\"dataframe\">\n",
       "  <thead>\n",
       "    <tr style=\"text-align: right;\">\n",
       "      <th></th>\n",
       "      <th>Gender</th>\n",
       "      <th>Height</th>\n",
       "      <th>Weight</th>\n",
       "    </tr>\n",
       "  </thead>\n",
       "  <tbody>\n",
       "    <tr>\n",
       "      <th>0</th>\n",
       "      <td>0</td>\n",
       "      <td>174</td>\n",
       "      <td>96</td>\n",
       "    </tr>\n",
       "  </tbody>\n",
       "</table>\n",
       "</div>"
      ],
      "text/plain": [
       "   Gender  Height  Weight\n",
       "0       0     174      96"
      ]
     },
     "execution_count": 27,
     "metadata": {},
     "output_type": "execute_result"
    }
   ],
   "source": [
    "X_GHW.head(1)"
   ]
  },
  {
   "cell_type": "markdown",
   "id": "af388a20",
   "metadata": {},
   "source": [
    "# conveting data frame and series in to numpy array"
   ]
  },
  {
   "cell_type": "code",
   "execution_count": 28,
   "id": "c619634b",
   "metadata": {},
   "outputs": [],
   "source": [
    "XA=X_GHW.values\n",
    "YA=Y_target.values"
   ]
  },
  {
   "cell_type": "code",
   "execution_count": 29,
   "id": "d0111210",
   "metadata": {},
   "outputs": [
    {
     "name": "stdout",
     "output_type": "stream",
     "text": [
      "type of XA <class 'numpy.ndarray'> and YA <class 'numpy.ndarray'>\n"
     ]
    }
   ],
   "source": [
    "print(\"type of XA {} and YA {}\".format(type(XA),type(YA)))"
   ]
  },
  {
   "cell_type": "code",
   "execution_count": 32,
   "id": "5f7341a6",
   "metadata": {},
   "outputs": [],
   "source": [
    "#Splitting the data into training and testing "
   ]
  },
  {
   "cell_type": "code",
   "execution_count": 36,
   "id": "6a7f85e9",
   "metadata": {},
   "outputs": [
    {
     "data": {
      "text/plain": [
       "350"
      ]
     },
     "execution_count": 36,
     "metadata": {},
     "output_type": "execute_result"
    }
   ],
   "source": [
    "n=int(len(XA)*.70)\n",
    "n"
   ]
  },
  {
   "cell_type": "code",
   "execution_count": 37,
   "id": "e1f5f1c2",
   "metadata": {},
   "outputs": [],
   "source": [
    "Xtrain=XA[:n]\n",
    "Xtest=XA[n:]\n",
    "Ytrain=YA[:n]\n",
    "Ytest=YA[n:]"
   ]
  },
  {
   "cell_type": "code",
   "execution_count": 41,
   "id": "2c9fecc9",
   "metadata": {},
   "outputs": [],
   "source": [
    "index_result=pd.Series([\"Extremely Weak\",\"Weak\",\"Normal\",\n",
    "                        \"Overweight\",\"Obesity\",\"Extreme Obesity\"])"
   ]
  },
  {
   "cell_type": "code",
   "execution_count": 44,
   "id": "b3ccbdc6",
   "metadata": {},
   "outputs": [],
   "source": [
    "#index_result"
   ]
  },
  {
   "cell_type": "code",
   "execution_count": 38,
   "id": "e615933e",
   "metadata": {},
   "outputs": [],
   "source": [
    "from sklearn.neighbors import KNeighborsClassifier"
   ]
  },
  {
   "cell_type": "code",
   "execution_count": 39,
   "id": "9934ff22",
   "metadata": {},
   "outputs": [],
   "source": [
    "trainer=KNeighborsClassifier(n_neighbors=5)\n",
    "learner=trainer.fit(Xtrain,Ytrain)"
   ]
  },
  {
   "cell_type": "code",
   "execution_count": 43,
   "id": "5e4aa799",
   "metadata": {},
   "outputs": [
    {
     "name": "stdout",
     "output_type": "stream",
     "text": [
      "2    Normal\n",
      "dtype: object\n"
     ]
    }
   ],
   "source": [
    "i=learner.predict([[0,169,63]])\n",
    "print(index_result[i])"
   ]
  },
  {
   "cell_type": "code",
   "execution_count": 45,
   "id": "79097c7b",
   "metadata": {},
   "outputs": [],
   "source": [
    "#Testing the model"
   ]
  },
  {
   "cell_type": "code",
   "execution_count": 47,
   "id": "49db5405",
   "metadata": {},
   "outputs": [],
   "source": [
    "YP=learner.predict(Xtest)\n",
    "YAct=Ytest"
   ]
  },
  {
   "cell_type": "code",
   "execution_count": 48,
   "id": "337dd04f",
   "metadata": {},
   "outputs": [],
   "source": [
    "YavsYp=pd.DataFrame({\"Ya\":list(YAct),\"Yp\":list(YP)})"
   ]
  },
  {
   "cell_type": "code",
   "execution_count": 50,
   "id": "c590984c",
   "metadata": {},
   "outputs": [],
   "source": [
    "#YavsYp"
   ]
  },
  {
   "cell_type": "code",
   "execution_count": 51,
   "id": "e0ab9b33",
   "metadata": {},
   "outputs": [],
   "source": [
    "from sklearn.metrics import accuracy_score"
   ]
  },
  {
   "cell_type": "code",
   "execution_count": 52,
   "id": "9473b352",
   "metadata": {},
   "outputs": [
    {
     "data": {
      "text/plain": [
       "91.33333333333333"
      ]
     },
     "execution_count": 52,
     "metadata": {},
     "output_type": "execute_result"
    }
   ],
   "source": [
    "acc=accuracy_score(YAct,YP)*100\n",
    "acc"
   ]
  },
  {
   "cell_type": "markdown",
   "id": "aba138c6",
   "metadata": {},
   "source": [
    "# k value (acc vs k)"
   ]
  },
  {
   "cell_type": "code",
   "execution_count": 69,
   "id": "122a1500",
   "metadata": {},
   "outputs": [],
   "source": [
    "Kmax=int(np.sqrt(len(X_GHW)))+1\n",
    "krange=list(range(1,Kmax))"
   ]
  },
  {
   "cell_type": "code",
   "execution_count": 63,
   "id": "62251aaa",
   "metadata": {},
   "outputs": [],
   "source": [
    "acc_list=[]\n",
    "for i in range(1,Kmax):\n",
    "    KNN_model=KNeighborsClassifier(n_neighbors=i)\n",
    "    KNN_learner=KNN_model.fit(Xtrain,Ytrain)\n",
    "    Ypmodel=KNN_learner.predict(Xtest)\n",
    "    accModel=accuracy_score(Ypmodel,Ytest)\n",
    "    acc_list.append(accModel)\n",
    "    #print(\"Vale of  k is  {} and acc is {} \".format(i,accModel))"
   ]
  },
  {
   "cell_type": "code",
   "execution_count": 68,
   "id": "39faaadc",
   "metadata": {},
   "outputs": [],
   "source": [
    "#np.array(acc_list).argmax()"
   ]
  },
  {
   "cell_type": "code",
   "execution_count": 71,
   "id": "5b374af4",
   "metadata": {},
   "outputs": [],
   "source": [
    "#krange"
   ]
  },
  {
   "cell_type": "code",
   "execution_count": 75,
   "id": "be9491c0",
   "metadata": {},
   "outputs": [
    {
     "data": {
      "image/png": "[encoded data removed]",
      "text/plain": [
       "<Figure size 432x288 with 1 Axes>"
      ]
     },
     "metadata": {
      "needs_background": "light"
     },
     "output_type": "display_data"
    }
   ],
   "source": [
    "plt.plot(krange,acc_list,'g*')\n",
    "plt.plot(krange,acc_list)\n",
    "plt.xlabel(\"k....>\")\n",
    "plt.ylabel('Acc Score %')\n",
    "plt.show()"
   ]
  },
  {
   "cell_type": "code",
   "execution_count": null,
   "id": "7c12bd83",
   "metadata": {},
   "outputs": [],
   "source": []
  }
 ],
 "metadata": {
  "kernelspec": {
   "display_name": "Python 3 (ipykernel)",
   "language": "python",
   "name": "python3"
  },
  "language_info": {
   "codemirror_mode": {
    "name": "ipython",
    "version": 3
   },
   "file_extension": ".py",
   "mimetype": "text/x-python",
   "name": "python",
   "nbconvert_exporter": "python",
   "pygments_lexer": "ipython3",
   "version": "3.9.12"
  }
 },
 "nbformat": 4,
 "nbformat_minor": 5
}
