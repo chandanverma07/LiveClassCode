{
 "cells": [
  {
   "cell_type": "code",
   "execution_count": 1,
   "id": "5f871e20",
   "metadata": {},
   "outputs": [],
   "source": [
    "import pandas as pd\n",
    "import numpy as np\n",
    "import nltk\n",
    "from matplotlib import pyplot as plt"
   ]
  },
  {
   "cell_type": "code",
   "execution_count": 2,
   "id": "f1997ee7",
   "metadata": {},
   "outputs": [],
   "source": [
    "#nltk.download()"
   ]
  },
  {
   "cell_type": "code",
   "execution_count": 3,
   "id": "25ac32fd",
   "metadata": {},
   "outputs": [],
   "source": [
    "text_data=\"Before 1949, computers could execute commands, but they could not remember what they did as they were not able to store these commands. In 1950, Alan Turing discussed how to build intelligent machines and test this intelligence in his paper “Computing Machinery and Intelligence.” Five years later, the first AI program was presented at the Dartmouth Summer Research Project on Artificial Intelligence (DSPRAI). This event catalyzed AI research for the next few decades.\""
   ]
  },
  {
   "cell_type": "code",
   "execution_count": 4,
   "id": "ffe764a3",
   "metadata": {},
   "outputs": [
    {
     "data": {
      "text/plain": [
       "'Before 1949, computers could execute commands, but they could not remember what they did as they were not able to store these commands. In 1950, Alan Turing discussed how to build intelligent machines and test this intelligence in his paper “Computing Machinery and Intelligence.” Five years later, the first AI program was presented at the Dartmouth Summer Research Project on Artificial Intelligence (DSPRAI). This event catalyzed AI research for the next few decades.'"
      ]
     },
     "execution_count": 4,
     "metadata": {},
     "output_type": "execute_result"
    }
   ],
   "source": [
    "text_data"
   ]
  },
  {
   "cell_type": "markdown",
   "id": "8722bf5c",
   "metadata": {},
   "source": [
    "### Tokenization\n",
    "     Sentence Tokenization\n",
    "     Word Tokenization"
   ]
  },
  {
   "cell_type": "code",
   "execution_count": 5,
   "id": "cdf90956",
   "metadata": {},
   "outputs": [],
   "source": [
    "from nltk.tokenize import sent_tokenize\n",
    "from nltk.tokenize import word_tokenize"
   ]
  },
  {
   "cell_type": "code",
   "execution_count": 6,
   "id": "188b29c9",
   "metadata": {},
   "outputs": [],
   "source": [
    "sent_token=sent_tokenize(text_data)"
   ]
  },
  {
   "cell_type": "code",
   "execution_count": 7,
   "id": "647f1e72",
   "metadata": {},
   "outputs": [
    {
     "data": {
      "text/plain": [
       "['Before 1949, computers could execute commands, but they could not remember what they did as they were not able to store these commands.',\n",
       " 'In 1950, Alan Turing discussed how to build intelligent machines and test this intelligence in his paper “Computing Machinery and Intelligence.” Five years later, the first AI program was presented at the Dartmouth Summer Research Project on Artificial Intelligence (DSPRAI).',\n",
       " 'This event catalyzed AI research for the next few decades.']"
      ]
     },
     "execution_count": 7,
     "metadata": {},
     "output_type": "execute_result"
    }
   ],
   "source": [
    "sent_token"
   ]
  },
  {
   "cell_type": "code",
   "execution_count": 8,
   "id": "02df27c7",
   "metadata": {},
   "outputs": [
    {
     "data": {
      "text/plain": [
       "3"
      ]
     },
     "execution_count": 8,
     "metadata": {},
     "output_type": "execute_result"
    }
   ],
   "source": [
    "len(sent_token)"
   ]
  },
  {
   "cell_type": "code",
   "execution_count": 9,
   "id": "7ac0c76c",
   "metadata": {},
   "outputs": [],
   "source": [
    "word_token=word_tokenize(text_data)"
   ]
  },
  {
   "cell_type": "code",
   "execution_count": 10,
   "id": "a1e1bb21",
   "metadata": {},
   "outputs": [],
   "source": [
    "#word_token"
   ]
  },
  {
   "cell_type": "code",
   "execution_count": 11,
   "id": "525b9160",
   "metadata": {},
   "outputs": [
    {
     "data": {
      "text/plain": [
       "84"
      ]
     },
     "execution_count": 11,
     "metadata": {},
     "output_type": "execute_result"
    }
   ],
   "source": [
    "len(word_token)"
   ]
  },
  {
   "cell_type": "markdown",
   "id": "ad43fc1a",
   "metadata": {},
   "source": [
    "### word frequency "
   ]
  },
  {
   "cell_type": "code",
   "execution_count": 12,
   "id": "de2eb498",
   "metadata": {},
   "outputs": [],
   "source": [
    "from nltk.probability import FreqDist"
   ]
  },
  {
   "cell_type": "code",
   "execution_count": 13,
   "id": "70d2491e",
   "metadata": {},
   "outputs": [
    {
     "name": "stdout",
     "output_type": "stream",
     "text": [
      "<FreqDist with 15 samples and 20 outcomes>\n"
     ]
    }
   ],
   "source": [
    "distribution = FreqDist(word_token[:20])\n",
    "print(distribution)"
   ]
  },
  {
   "cell_type": "code",
   "execution_count": 14,
   "id": "28fe57d1",
   "metadata": {},
   "outputs": [
    {
     "data": {
      "text/plain": [
       "[('they', 3), (',', 2)]"
      ]
     },
     "execution_count": 14,
     "metadata": {},
     "output_type": "execute_result"
    }
   ],
   "source": [
    "# Most common words\n",
    "distribution.most_common(2)"
   ]
  },
  {
   "cell_type": "code",
   "execution_count": 15,
   "id": "4096988b",
   "metadata": {},
   "outputs": [
    {
     "data": {
      "text/html": [
       "<div>\n",
       "<style scoped>\n",
       "    .dataframe tbody tr th:only-of-type {\n",
       "        vertical-align: middle;\n",
       "    }\n",
       "\n",
       "    .dataframe tbody tr th {\n",
       "        vertical-align: top;\n",
       "    }\n",
       "\n",
       "    .dataframe thead th {\n",
       "        text-align: right;\n",
       "    }\n",
       "</style>\n",
       "<table border=\"1\" class=\"dataframe\">\n",
       "  <thead>\n",
       "    <tr style=\"text-align: right;\">\n",
       "      <th></th>\n",
       "      <th>freq</th>\n",
       "    </tr>\n",
       "  </thead>\n",
       "  <tbody>\n",
       "    <tr>\n",
       "      <th>,</th>\n",
       "      <td>4</td>\n",
       "    </tr>\n",
       "    <tr>\n",
       "      <th>.</th>\n",
       "      <td>3</td>\n",
       "    </tr>\n",
       "    <tr>\n",
       "      <th>they</th>\n",
       "      <td>3</td>\n",
       "    </tr>\n",
       "    <tr>\n",
       "      <th>the</th>\n",
       "      <td>3</td>\n",
       "    </tr>\n",
       "    <tr>\n",
       "      <th>could</th>\n",
       "      <td>2</td>\n",
       "    </tr>\n",
       "    <tr>\n",
       "      <th>commands</th>\n",
       "      <td>2</td>\n",
       "    </tr>\n",
       "    <tr>\n",
       "      <th>not</th>\n",
       "      <td>2</td>\n",
       "    </tr>\n",
       "    <tr>\n",
       "      <th>AI</th>\n",
       "      <td>2</td>\n",
       "    </tr>\n",
       "    <tr>\n",
       "      <th>to</th>\n",
       "      <td>2</td>\n",
       "    </tr>\n",
       "    <tr>\n",
       "      <th>and</th>\n",
       "      <td>2</td>\n",
       "    </tr>\n",
       "  </tbody>\n",
       "</table>\n",
       "</div>"
      ],
      "text/plain": [
       "          freq\n",
       ",            4\n",
       ".            3\n",
       "they         3\n",
       "the          3\n",
       "could        2\n",
       "commands     2\n",
       "not          2\n",
       "AI           2\n",
       "to           2\n",
       "and          2"
      ]
     },
     "execution_count": 15,
     "metadata": {},
     "output_type": "execute_result"
    }
   ],
   "source": [
    "freq = nltk.FreqDist(word_token)\n",
    "df = pd.DataFrame.from_dict(freq, orient='index')\n",
    "df = df.rename(columns={0:'freq'})\n",
    "result = df.sort_values(['freq'], ascending=False)\n",
    "\n",
    "result.head(10)"
   ]
  },
  {
   "cell_type": "code",
   "execution_count": 16,
   "id": "fe598c4e",
   "metadata": {},
   "outputs": [
    {
     "data": {
      "image/png": "[encoded data removed]",
      "text/plain": [
       "<Figure size 432x288 with 1 Axes>"
      ]
     },
     "metadata": {
      "needs_background": "light"
     },
     "output_type": "display_data"
    }
   ],
   "source": [
    "distribution.plot(10)\n",
    "plt.show()"
   ]
  },
  {
   "cell_type": "markdown",
   "id": "cee11ca9",
   "metadata": {},
   "source": [
    "### Stopwords"
   ]
  },
  {
   "cell_type": "code",
   "execution_count": 17,
   "id": "31d2a758",
   "metadata": {},
   "outputs": [],
   "source": [
    "from nltk.corpus import stopwords"
   ]
  },
  {
   "cell_type": "code",
   "execution_count": 18,
   "id": "80cca806",
   "metadata": {},
   "outputs": [
    {
     "name": "stdout",
     "output_type": "stream",
     "text": [
      "Stopwords in NLTK:  179\n"
     ]
    }
   ],
   "source": [
    "stopwords_default = stopwords.words('english')\n",
    "print('Stopwords in NLTK: ',len(stopwords_default))"
   ]
  },
  {
   "cell_type": "code",
   "execution_count": 19,
   "id": "0309e6a5",
   "metadata": {},
   "outputs": [],
   "source": [
    "#stopwords_default"
   ]
  },
  {
   "cell_type": "code",
   "execution_count": 20,
   "id": "254adedd",
   "metadata": {},
   "outputs": [],
   "source": [
    "filtered_words = []\n",
    "for word in word_token:\n",
    "    if word not in stopwords_default:\n",
    "        filtered_words.append(word)\n",
    "#filtered_words\n"
   ]
  },
  {
   "cell_type": "markdown",
   "id": "3beab33d",
   "metadata": {},
   "source": [
    "### Lemmatization and Stemming"
   ]
  },
  {
   "cell_type": "code",
   "execution_count": 21,
   "id": "2f94ac58",
   "metadata": {},
   "outputs": [
    {
     "name": "stdout",
     "output_type": "stream",
     "text": [
      "stem\n"
     ]
    }
   ],
   "source": [
    "from nltk.stem import PorterStemmer\n",
    "ps = PorterStemmer()\n",
    "print(ps.stem(\"stemming\"))"
   ]
  },
  {
   "cell_type": "code",
   "execution_count": 22,
   "id": "0c3154fd",
   "metadata": {},
   "outputs": [
    {
     "name": "stdout",
     "output_type": "stream",
     "text": [
      "connect\n",
      "connect\n",
      "connect\n",
      "and\n",
      "connect\n",
      ".\n",
      "he\n",
      "went\n"
     ]
    }
   ],
   "source": [
    "sentence = \"connection connecting connected and connected . he went \"\n",
    "words = nltk.word_tokenize(sentence)\n",
    "for word in words:\n",
    "    ps = PorterStemmer()\n",
    "    print(ps.stem(word))"
   ]
  },
  {
   "cell_type": "code",
   "execution_count": 23,
   "id": "e76bef82",
   "metadata": {},
   "outputs": [],
   "source": [
    "from nltk.stem import WordNetLemmatizer\n",
    "lemmatizer = WordNetLemmatizer()"
   ]
  },
  {
   "cell_type": "code",
   "execution_count": 24,
   "id": "7e14d2df",
   "metadata": {},
   "outputs": [
    {
     "name": "stdout",
     "output_type": "stream",
     "text": [
      "bat\n"
     ]
    }
   ],
   "source": [
    "print(lemmatizer.lemmatize(\"bats\"))"
   ]
  },
  {
   "cell_type": "code",
   "execution_count": 25,
   "id": "cd62e382",
   "metadata": {},
   "outputs": [
    {
     "name": "stdout",
     "output_type": "stream",
     "text": [
      "foot\n"
     ]
    }
   ],
   "source": [
    "print(lemmatizer.lemmatize(\"feet\"))"
   ]
  },
  {
   "cell_type": "code",
   "execution_count": 26,
   "id": "95cc54c5",
   "metadata": {},
   "outputs": [
    {
     "name": "stdout",
     "output_type": "stream",
     "text": [
      "running\n"
     ]
    }
   ],
   "source": [
    "print(lemmatizer.lemmatize(\"running\",\"n\"))"
   ]
  },
  {
   "cell_type": "markdown",
   "id": "b9a8c20c",
   "metadata": {},
   "source": [
    "### Pos"
   ]
  },
  {
   "cell_type": "code",
   "execution_count": 27,
   "id": "26e55929",
   "metadata": {},
   "outputs": [
    {
     "data": {
      "text/plain": [
       "[('Before', 'IN'),\n",
       " ('1949', 'CD'),\n",
       " (',', ','),\n",
       " ('computers', 'NNS'),\n",
       " ('could', 'MD'),\n",
       " ('execute', 'VB'),\n",
       " ('commands', 'NNS'),\n",
       " (',', ','),\n",
       " ('but', 'CC'),\n",
       " ('they', 'PRP'),\n",
       " ('could', 'MD'),\n",
       " ('not', 'RB'),\n",
       " ('remember', 'VB'),\n",
       " ('what', 'WP'),\n",
       " ('they', 'PRP'),\n",
       " ('did', 'VBD'),\n",
       " ('as', 'IN'),\n",
       " ('they', 'PRP'),\n",
       " ('were', 'VBD'),\n",
       " ('not', 'RB'),\n",
       " ('able', 'JJ'),\n",
       " ('to', 'TO'),\n",
       " ('store', 'VB'),\n",
       " ('these', 'DT'),\n",
       " ('commands', 'NNS'),\n",
       " ('.', '.'),\n",
       " ('In', 'IN'),\n",
       " ('1950', 'CD'),\n",
       " (',', ','),\n",
       " ('Alan', 'NNP'),\n",
       " ('Turing', 'NNP'),\n",
       " ('discussed', 'VBD'),\n",
       " ('how', 'WRB'),\n",
       " ('to', 'TO'),\n",
       " ('build', 'VB'),\n",
       " ('intelligent', 'JJ'),\n",
       " ('machines', 'NNS'),\n",
       " ('and', 'CC'),\n",
       " ('test', 'NN'),\n",
       " ('this', 'DT'),\n",
       " ('intelligence', 'NN'),\n",
       " ('in', 'IN'),\n",
       " ('his', 'PRP$'),\n",
       " ('paper', 'NN'),\n",
       " ('“', 'NN'),\n",
       " ('Computing', 'VBG'),\n",
       " ('Machinery', 'NNP'),\n",
       " ('and', 'CC'),\n",
       " ('Intelligence.', 'NNP'),\n",
       " ('”', 'NNP'),\n",
       " ('Five', 'CD'),\n",
       " ('years', 'NNS'),\n",
       " ('later', 'RB'),\n",
       " (',', ','),\n",
       " ('the', 'DT'),\n",
       " ('first', 'JJ'),\n",
       " ('AI', 'NNP'),\n",
       " ('program', 'NN'),\n",
       " ('was', 'VBD'),\n",
       " ('presented', 'VBN'),\n",
       " ('at', 'IN'),\n",
       " ('the', 'DT'),\n",
       " ('Dartmouth', 'NNP'),\n",
       " ('Summer', 'NNP'),\n",
       " ('Research', 'NNP'),\n",
       " ('Project', 'NNP'),\n",
       " ('on', 'IN'),\n",
       " ('Artificial', 'NNP'),\n",
       " ('Intelligence', 'NNP'),\n",
       " ('(', '('),\n",
       " ('DSPRAI', 'NNP'),\n",
       " (')', ')'),\n",
       " ('.', '.'),\n",
       " ('This', 'DT'),\n",
       " ('event', 'NN'),\n",
       " ('catalyzed', 'VBD'),\n",
       " ('AI', 'NNP'),\n",
       " ('research', 'NN'),\n",
       " ('for', 'IN'),\n",
       " ('the', 'DT'),\n",
       " ('next', 'JJ'),\n",
       " ('few', 'JJ'),\n",
       " ('decades', 'NNS'),\n",
       " ('.', '.')]"
      ]
     },
     "execution_count": 27,
     "metadata": {},
     "output_type": "execute_result"
    }
   ],
   "source": [
    "nltk.pos_tag(word_token)"
   ]
  },
  {
   "cell_type": "markdown",
   "id": "416bf929",
   "metadata": {},
   "source": [
    "### word cloud"
   ]
  },
  {
   "cell_type": "code",
   "execution_count": 28,
   "id": "b514b064",
   "metadata": {},
   "outputs": [],
   "source": [
    "from wordcloud import WordCloud,STOPWORDS"
   ]
  },
  {
   "cell_type": "code",
   "execution_count": 29,
   "id": "4a8ea554",
   "metadata": {},
   "outputs": [],
   "source": [
    "word_cloud=WordCloud(collocations=False,background_color='white').generate(text_data)"
   ]
  },
  {
   "cell_type": "code",
   "execution_count": 30,
   "id": "2e6d90bf",
   "metadata": {},
   "outputs": [
    {
     "data": {
      "image/png": "[encoded data removed]",
      "text/plain": [
       "<Figure size 432x288 with 1 Axes>"
      ]
     },
     "metadata": {
      "needs_background": "light"
     },
     "output_type": "display_data"
    }
   ],
   "source": [
    "plt.imshow(word_cloud, interpolation='bilinear')\n",
    "plt.axis(\"off\")\n",
    "plt.show()"
   ]
  },
  {
   "cell_type": "code",
   "execution_count": null,
   "id": "ef2eb486",
   "metadata": {},
   "outputs": [],
   "source": []
  }
 ],
 "metadata": {
  "kernelspec": {
   "display_name": "Python 3 (ipykernel)",
   "language": "python",
   "name": "python3"
  },
  "language_info": {
   "codemirror_mode": {
    "name": "ipython",
    "version": 3
   },
   "file_extension": ".py",
   "mimetype": "text/x-python",
   "name": "python",
   "nbconvert_exporter": "python",
   "pygments_lexer": "ipython3",
   "version": "3.9.12"
  }
 },
 "nbformat": 4,
 "nbformat_minor": 5
}
