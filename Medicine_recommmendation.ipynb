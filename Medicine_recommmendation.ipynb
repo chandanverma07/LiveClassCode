{
 "cells": [
  {
   "cell_type": "code",
   "execution_count": 1,
   "id": "323bbfa8",
   "metadata": {},
   "outputs": [],
   "source": [
    "import pandas as pd\n",
    "import numpy as np\n",
    "import seaborn as sb\n",
    "from matplotlib import pyplot as plt\n",
    "import warnings\n",
    "warnings.filterwarnings(\"ignore\")"
   ]
  },
  {
   "cell_type": "code",
   "execution_count": 2,
   "id": "d6f96a60",
   "metadata": {},
   "outputs": [],
   "source": [
    "data=pd.read_csv(r\"C:\\Users\\mail2\\OneDrive\\Desktop\\Ml_Data\\NLP_DATA\\medicine.csv\")"
   ]
  },
  {
   "cell_type": "code",
   "execution_count": 3,
   "id": "bff84d58",
   "metadata": {},
   "outputs": [
    {
     "data": {
      "text/html": [
       "<div>\n",
       "<style scoped>\n",
       "    .dataframe tbody tr th:only-of-type {\n",
       "        vertical-align: middle;\n",
       "    }\n",
       "\n",
       "    .dataframe tbody tr th {\n",
       "        vertical-align: top;\n",
       "    }\n",
       "\n",
       "    .dataframe thead th {\n",
       "        text-align: right;\n",
       "    }\n",
       "</style>\n",
       "<table border=\"1\" class=\"dataframe\">\n",
       "  <thead>\n",
       "    <tr style=\"text-align: right;\">\n",
       "      <th></th>\n",
       "      <th>index</th>\n",
       "      <th>Drug_Name</th>\n",
       "      <th>Reason</th>\n",
       "      <th>Description</th>\n",
       "    </tr>\n",
       "  </thead>\n",
       "  <tbody>\n",
       "    <tr>\n",
       "      <th>0</th>\n",
       "      <td>1</td>\n",
       "      <td>A CN Gel(Topical) 20gmA CN Soap 75gm</td>\n",
       "      <td>Acne</td>\n",
       "      <td>Mild to moderate acne (spots)</td>\n",
       "    </tr>\n",
       "  </tbody>\n",
       "</table>\n",
       "</div>"
      ],
      "text/plain": [
       "   index                             Drug_Name Reason  \\\n",
       "0      1  A CN Gel(Topical) 20gmA CN Soap 75gm   Acne   \n",
       "\n",
       "                     Description  \n",
       "0  Mild to moderate acne (spots)  "
      ]
     },
     "execution_count": 3,
     "metadata": {},
     "output_type": "execute_result"
    }
   ],
   "source": [
    "data.head(1)"
   ]
  },
  {
   "cell_type": "raw",
   "id": "00e7e507",
   "metadata": {},
   "source": [
    "plt.figure(figsize=(15,8))\n",
    "sb.countplot(\"Reason\",data=data)\n",
    "plt.xticks(rotation=90)\n",
    "plt.show()\n"
   ]
  },
  {
   "cell_type": "code",
   "execution_count": 4,
   "id": "5256f6e0",
   "metadata": {},
   "outputs": [],
   "source": [
    "#data.isnull().sum()"
   ]
  },
  {
   "cell_type": "markdown",
   "id": "5df35ad2",
   "metadata": {},
   "source": [
    "#data.duplicated().sum()"
   ]
  },
  {
   "cell_type": "markdown",
   "id": "c0e93b9d",
   "metadata": {},
   "source": [
    "### Description"
   ]
  },
  {
   "cell_type": "code",
   "execution_count": 5,
   "id": "6817b739",
   "metadata": {},
   "outputs": [
    {
     "data": {
      "text/plain": [
       "'Mild to moderate acne (spots)'"
      ]
     },
     "execution_count": 5,
     "metadata": {},
     "output_type": "execute_result"
    }
   ],
   "source": [
    "data[\"Description\"][0]"
   ]
  },
  {
   "cell_type": "code",
   "execution_count": 6,
   "id": "39a6c3de",
   "metadata": {},
   "outputs": [
    {
     "data": {
      "text/plain": [
       "['Mild', 'to', 'moderate', 'acne', '(spots)']"
      ]
     },
     "execution_count": 6,
     "metadata": {},
     "output_type": "execute_result"
    }
   ],
   "source": [
    "data[\"Description\"][0].split(\" \")"
   ]
  },
  {
   "cell_type": "code",
   "execution_count": 7,
   "id": "d3238a83",
   "metadata": {},
   "outputs": [],
   "source": [
    "#split into token \n",
    "#data[\"Description\"].apply(lambda x:x.split(\" \"))"
   ]
  },
  {
   "cell_type": "code",
   "execution_count": 8,
   "id": "b44f1a18",
   "metadata": {},
   "outputs": [],
   "source": [
    "data[\"Description\"]=data[\"Description\"].apply(lambda x:x.split(\" \"))\n",
    "data[\"Reason\"]=data[\"Reason\"].apply(lambda x:x.split(\" \"))\n"
   ]
  },
  {
   "cell_type": "code",
   "execution_count": 9,
   "id": "b58e615b",
   "metadata": {},
   "outputs": [
    {
     "data": {
      "text/html": [
       "<div>\n",
       "<style scoped>\n",
       "    .dataframe tbody tr th:only-of-type {\n",
       "        vertical-align: middle;\n",
       "    }\n",
       "\n",
       "    .dataframe tbody tr th {\n",
       "        vertical-align: top;\n",
       "    }\n",
       "\n",
       "    .dataframe thead th {\n",
       "        text-align: right;\n",
       "    }\n",
       "</style>\n",
       "<table border=\"1\" class=\"dataframe\">\n",
       "  <thead>\n",
       "    <tr style=\"text-align: right;\">\n",
       "      <th></th>\n",
       "      <th>index</th>\n",
       "      <th>Drug_Name</th>\n",
       "      <th>Reason</th>\n",
       "      <th>Description</th>\n",
       "    </tr>\n",
       "  </thead>\n",
       "  <tbody>\n",
       "    <tr>\n",
       "      <th>0</th>\n",
       "      <td>1</td>\n",
       "      <td>A CN Gel(Topical) 20gmA CN Soap 75gm</td>\n",
       "      <td>[Acne]</td>\n",
       "      <td>[Mild, to, moderate, acne, (spots)]</td>\n",
       "    </tr>\n",
       "  </tbody>\n",
       "</table>\n",
       "</div>"
      ],
      "text/plain": [
       "   index                             Drug_Name  Reason  \\\n",
       "0      1  A CN Gel(Topical) 20gmA CN Soap 75gm  [Acne]   \n",
       "\n",
       "                           Description  \n",
       "0  [Mild, to, moderate, acne, (spots)]  "
      ]
     },
     "execution_count": 9,
     "metadata": {},
     "output_type": "execute_result"
    }
   ],
   "source": [
    "data.head(1)"
   ]
  },
  {
   "cell_type": "code",
   "execution_count": 10,
   "id": "e5068d6a",
   "metadata": {},
   "outputs": [],
   "source": [
    "data['Description'] = data['Description'].apply(lambda x:[i.replace(\" \",\"\") for i in x])"
   ]
  },
  {
   "cell_type": "code",
   "execution_count": 11,
   "id": "5e4c1289",
   "metadata": {},
   "outputs": [],
   "source": [
    "data['Description'] = data['Description'].apply(lambda x:[i.replace(\" \",\"\") for i in x])"
   ]
  },
  {
   "cell_type": "code",
   "execution_count": 12,
   "id": "5c417c04",
   "metadata": {},
   "outputs": [
    {
     "data": {
      "text/html": [
       "<div>\n",
       "<style scoped>\n",
       "    .dataframe tbody tr th:only-of-type {\n",
       "        vertical-align: middle;\n",
       "    }\n",
       "\n",
       "    .dataframe tbody tr th {\n",
       "        vertical-align: top;\n",
       "    }\n",
       "\n",
       "    .dataframe thead th {\n",
       "        text-align: right;\n",
       "    }\n",
       "</style>\n",
       "<table border=\"1\" class=\"dataframe\">\n",
       "  <thead>\n",
       "    <tr style=\"text-align: right;\">\n",
       "      <th></th>\n",
       "      <th>index</th>\n",
       "      <th>Drug_Name</th>\n",
       "      <th>Reason</th>\n",
       "      <th>Description</th>\n",
       "    </tr>\n",
       "  </thead>\n",
       "  <tbody>\n",
       "    <tr>\n",
       "      <th>0</th>\n",
       "      <td>1</td>\n",
       "      <td>A CN Gel(Topical) 20gmA CN Soap 75gm</td>\n",
       "      <td>[Acne]</td>\n",
       "      <td>[Mild, to, moderate, acne, (spots)]</td>\n",
       "    </tr>\n",
       "  </tbody>\n",
       "</table>\n",
       "</div>"
      ],
      "text/plain": [
       "   index                             Drug_Name  Reason  \\\n",
       "0      1  A CN Gel(Topical) 20gmA CN Soap 75gm  [Acne]   \n",
       "\n",
       "                           Description  \n",
       "0  [Mild, to, moderate, acne, (spots)]  "
      ]
     },
     "execution_count": 12,
     "metadata": {},
     "output_type": "execute_result"
    }
   ],
   "source": [
    "data.head(1)"
   ]
  },
  {
   "cell_type": "code",
   "execution_count": 13,
   "id": "e88b8b0d",
   "metadata": {},
   "outputs": [],
   "source": [
    "#comining drug_name and Description"
   ]
  },
  {
   "cell_type": "code",
   "execution_count": 14,
   "id": "9f266c1c",
   "metadata": {},
   "outputs": [],
   "source": [
    "data[\"Reason_Description\"]=data[\"Description\"]+data[\"Reason\"]"
   ]
  },
  {
   "cell_type": "code",
   "execution_count": 15,
   "id": "f1781a21",
   "metadata": {},
   "outputs": [
    {
     "data": {
      "text/html": [
       "<div>\n",
       "<style scoped>\n",
       "    .dataframe tbody tr th:only-of-type {\n",
       "        vertical-align: middle;\n",
       "    }\n",
       "\n",
       "    .dataframe tbody tr th {\n",
       "        vertical-align: top;\n",
       "    }\n",
       "\n",
       "    .dataframe thead th {\n",
       "        text-align: right;\n",
       "    }\n",
       "</style>\n",
       "<table border=\"1\" class=\"dataframe\">\n",
       "  <thead>\n",
       "    <tr style=\"text-align: right;\">\n",
       "      <th></th>\n",
       "      <th>index</th>\n",
       "      <th>Drug_Name</th>\n",
       "      <th>Reason</th>\n",
       "      <th>Description</th>\n",
       "      <th>Reason_Description</th>\n",
       "    </tr>\n",
       "  </thead>\n",
       "  <tbody>\n",
       "    <tr>\n",
       "      <th>0</th>\n",
       "      <td>1</td>\n",
       "      <td>A CN Gel(Topical) 20gmA CN Soap 75gm</td>\n",
       "      <td>[Acne]</td>\n",
       "      <td>[Mild, to, moderate, acne, (spots)]</td>\n",
       "      <td>[Mild, to, moderate, acne, (spots), Acne]</td>\n",
       "    </tr>\n",
       "  </tbody>\n",
       "</table>\n",
       "</div>"
      ],
      "text/plain": [
       "   index                             Drug_Name  Reason  \\\n",
       "0      1  A CN Gel(Topical) 20gmA CN Soap 75gm  [Acne]   \n",
       "\n",
       "                           Description  \\\n",
       "0  [Mild, to, moderate, acne, (spots)]   \n",
       "\n",
       "                          Reason_Description  \n",
       "0  [Mild, to, moderate, acne, (spots), Acne]  "
      ]
     },
     "execution_count": 15,
     "metadata": {},
     "output_type": "execute_result"
    }
   ],
   "source": [
    "data.head(1)"
   ]
  },
  {
   "cell_type": "code",
   "execution_count": 16,
   "id": "9e2d35c5",
   "metadata": {},
   "outputs": [],
   "source": [
    "recom_df=data[[\"index\",\"Drug_Name\",\"Reason_Description\"]]"
   ]
  },
  {
   "cell_type": "code",
   "execution_count": 17,
   "id": "19cfd378",
   "metadata": {},
   "outputs": [
    {
     "data": {
      "text/html": [
       "<div>\n",
       "<style scoped>\n",
       "    .dataframe tbody tr th:only-of-type {\n",
       "        vertical-align: middle;\n",
       "    }\n",
       "\n",
       "    .dataframe tbody tr th {\n",
       "        vertical-align: top;\n",
       "    }\n",
       "\n",
       "    .dataframe thead th {\n",
       "        text-align: right;\n",
       "    }\n",
       "</style>\n",
       "<table border=\"1\" class=\"dataframe\">\n",
       "  <thead>\n",
       "    <tr style=\"text-align: right;\">\n",
       "      <th></th>\n",
       "      <th>index</th>\n",
       "      <th>Drug_Name</th>\n",
       "      <th>Reason_Description</th>\n",
       "    </tr>\n",
       "  </thead>\n",
       "  <tbody>\n",
       "    <tr>\n",
       "      <th>0</th>\n",
       "      <td>1</td>\n",
       "      <td>A CN Gel(Topical) 20gmA CN Soap 75gm</td>\n",
       "      <td>[Mild, to, moderate, acne, (spots), Acne]</td>\n",
       "    </tr>\n",
       "  </tbody>\n",
       "</table>\n",
       "</div>"
      ],
      "text/plain": [
       "   index                             Drug_Name  \\\n",
       "0      1  A CN Gel(Topical) 20gmA CN Soap 75gm   \n",
       "\n",
       "                          Reason_Description  \n",
       "0  [Mild, to, moderate, acne, (spots), Acne]  "
      ]
     },
     "execution_count": 17,
     "metadata": {},
     "output_type": "execute_result"
    }
   ],
   "source": [
    "recom_df.head(1)"
   ]
  },
  {
   "cell_type": "code",
   "execution_count": 18,
   "id": "ea54a285",
   "metadata": {},
   "outputs": [],
   "source": [
    "recom_df[\"Reason_Description\"]=recom_df[\"Reason_Description\"].apply(lambda x:\" \".join(x))"
   ]
  },
  {
   "cell_type": "code",
   "execution_count": 19,
   "id": "f2866ce1",
   "metadata": {},
   "outputs": [
    {
     "data": {
      "text/html": [
       "<div>\n",
       "<style scoped>\n",
       "    .dataframe tbody tr th:only-of-type {\n",
       "        vertical-align: middle;\n",
       "    }\n",
       "\n",
       "    .dataframe tbody tr th {\n",
       "        vertical-align: top;\n",
       "    }\n",
       "\n",
       "    .dataframe thead th {\n",
       "        text-align: right;\n",
       "    }\n",
       "</style>\n",
       "<table border=\"1\" class=\"dataframe\">\n",
       "  <thead>\n",
       "    <tr style=\"text-align: right;\">\n",
       "      <th></th>\n",
       "      <th>index</th>\n",
       "      <th>Drug_Name</th>\n",
       "      <th>Reason_Description</th>\n",
       "    </tr>\n",
       "  </thead>\n",
       "  <tbody>\n",
       "    <tr>\n",
       "      <th>0</th>\n",
       "      <td>1</td>\n",
       "      <td>A CN Gel(Topical) 20gmA CN Soap 75gm</td>\n",
       "      <td>Mild to moderate acne (spots) Acne</td>\n",
       "    </tr>\n",
       "  </tbody>\n",
       "</table>\n",
       "</div>"
      ],
      "text/plain": [
       "   index                             Drug_Name  \\\n",
       "0      1  A CN Gel(Topical) 20gmA CN Soap 75gm   \n",
       "\n",
       "                   Reason_Description  \n",
       "0  Mild to moderate acne (spots) Acne  "
      ]
     },
     "execution_count": 19,
     "metadata": {},
     "output_type": "execute_result"
    }
   ],
   "source": [
    "recom_df.head(1)"
   ]
  },
  {
   "cell_type": "code",
   "execution_count": 20,
   "id": "c9c9b1e5",
   "metadata": {},
   "outputs": [],
   "source": [
    "recom_df[\"Reason_Description\"]=recom_df[\"Reason_Description\"].apply(lambda x:x.lower())"
   ]
  },
  {
   "cell_type": "code",
   "execution_count": 21,
   "id": "aa694993",
   "metadata": {},
   "outputs": [
    {
     "data": {
      "text/html": [
       "<div>\n",
       "<style scoped>\n",
       "    .dataframe tbody tr th:only-of-type {\n",
       "        vertical-align: middle;\n",
       "    }\n",
       "\n",
       "    .dataframe tbody tr th {\n",
       "        vertical-align: top;\n",
       "    }\n",
       "\n",
       "    .dataframe thead th {\n",
       "        text-align: right;\n",
       "    }\n",
       "</style>\n",
       "<table border=\"1\" class=\"dataframe\">\n",
       "  <thead>\n",
       "    <tr style=\"text-align: right;\">\n",
       "      <th></th>\n",
       "      <th>index</th>\n",
       "      <th>Drug_Name</th>\n",
       "      <th>Reason_Description</th>\n",
       "    </tr>\n",
       "  </thead>\n",
       "  <tbody>\n",
       "    <tr>\n",
       "      <th>0</th>\n",
       "      <td>1</td>\n",
       "      <td>A CN Gel(Topical) 20gmA CN Soap 75gm</td>\n",
       "      <td>mild to moderate acne (spots) acne</td>\n",
       "    </tr>\n",
       "  </tbody>\n",
       "</table>\n",
       "</div>"
      ],
      "text/plain": [
       "   index                             Drug_Name  \\\n",
       "0      1  A CN Gel(Topical) 20gmA CN Soap 75gm   \n",
       "\n",
       "                   Reason_Description  \n",
       "0  mild to moderate acne (spots) acne  "
      ]
     },
     "execution_count": 21,
     "metadata": {},
     "output_type": "execute_result"
    }
   ],
   "source": [
    "recom_df.head(1)"
   ]
  },
  {
   "cell_type": "code",
   "execution_count": 22,
   "id": "9f1cca33",
   "metadata": {},
   "outputs": [],
   "source": [
    "import nltk\n",
    "from nltk.stem.porter import PorterStemmer"
   ]
  },
  {
   "cell_type": "code",
   "execution_count": 23,
   "id": "fa6c88fa",
   "metadata": {},
   "outputs": [],
   "source": [
    "stem_ps=PorterStemmer()"
   ]
  },
  {
   "cell_type": "code",
   "execution_count": 27,
   "id": "7c9bf46b",
   "metadata": {},
   "outputs": [],
   "source": [
    "from sklearn.feature_extraction.text import CountVectorizer,TfidfVectorizer"
   ]
  },
  {
   "cell_type": "code",
   "execution_count": 28,
   "id": "0499d813",
   "metadata": {},
   "outputs": [],
   "source": [
    "def porter_step(text):\n",
    "    list_y=[]\n",
    "    for i in text.split():\n",
    "        list_y.append(stem_ps.stem(i))\n",
    "    return \" \".join(list_y)"
   ]
  },
  {
   "cell_type": "code",
   "execution_count": 29,
   "id": "bc81442d",
   "metadata": {},
   "outputs": [],
   "source": [
    "recom_df[\"Reason_Description\"]=recom_df[\"Reason_Description\"].apply(porter_step)"
   ]
  },
  {
   "cell_type": "code",
   "execution_count": 30,
   "id": "76e8e50c",
   "metadata": {},
   "outputs": [
    {
     "data": {
      "text/html": [
       "<div>\n",
       "<style scoped>\n",
       "    .dataframe tbody tr th:only-of-type {\n",
       "        vertical-align: middle;\n",
       "    }\n",
       "\n",
       "    .dataframe tbody tr th {\n",
       "        vertical-align: top;\n",
       "    }\n",
       "\n",
       "    .dataframe thead th {\n",
       "        text-align: right;\n",
       "    }\n",
       "</style>\n",
       "<table border=\"1\" class=\"dataframe\">\n",
       "  <thead>\n",
       "    <tr style=\"text-align: right;\">\n",
       "      <th></th>\n",
       "      <th>index</th>\n",
       "      <th>Drug_Name</th>\n",
       "      <th>Reason_Description</th>\n",
       "    </tr>\n",
       "  </thead>\n",
       "  <tbody>\n",
       "    <tr>\n",
       "      <th>0</th>\n",
       "      <td>1</td>\n",
       "      <td>A CN Gel(Topical) 20gmA CN Soap 75gm</td>\n",
       "      <td>mild to moder acn (spots) acn</td>\n",
       "    </tr>\n",
       "  </tbody>\n",
       "</table>\n",
       "</div>"
      ],
      "text/plain": [
       "   index                             Drug_Name             Reason_Description\n",
       "0      1  A CN Gel(Topical) 20gmA CN Soap 75gm  mild to moder acn (spots) acn"
      ]
     },
     "execution_count": 30,
     "metadata": {},
     "output_type": "execute_result"
    }
   ],
   "source": [
    "  recom_df.head(1)"
   ]
  },
  {
   "cell_type": "code",
   "execution_count": 35,
   "id": "03596d7e",
   "metadata": {},
   "outputs": [],
   "source": [
    "tf_idf_vector=TfidfVectorizer(use_idf=True,ngram_range=(2,2),stop_words=\"english\")\n",
    "#vector=tf_idf_vector"
   ]
  },
  {
   "cell_type": "code",
   "execution_count": 36,
   "id": "f571f9de",
   "metadata": {},
   "outputs": [],
   "source": [
    "vector_tfid=tf_idf_vector.fit_transform(recom_df[\"Reason_Description\"]).toarray()"
   ]
  },
  {
   "cell_type": "code",
   "execution_count": 38,
   "id": "50eed070",
   "metadata": {},
   "outputs": [],
   "source": [
    "#tf_idf_vector.get_feature_names()"
   ]
  },
  {
   "cell_type": "code",
   "execution_count": 39,
   "id": "fa7e1220",
   "metadata": {},
   "outputs": [],
   "source": [
    "from sklearn.metrics.pairwise import cosine_similarity"
   ]
  },
  {
   "cell_type": "code",
   "execution_count": 40,
   "id": "a2f8481b",
   "metadata": {},
   "outputs": [],
   "source": [
    "vector_similarity=cosine_similarity(vector_tfid)"
   ]
  },
  {
   "cell_type": "code",
   "execution_count": 42,
   "id": "34b5c3b8",
   "metadata": {},
   "outputs": [],
   "source": [
    "#vector_similarity"
   ]
  },
  {
   "cell_type": "code",
   "execution_count": 43,
   "id": "e63944f9",
   "metadata": {},
   "outputs": [],
   "source": [
    "#recommnedation fun"
   ]
  },
  {
   "cell_type": "code",
   "execution_count": 58,
   "id": "377fc26c",
   "metadata": {},
   "outputs": [],
   "source": [
    "def medicine_recommendation(medicine):\n",
    "    index_med = recom_df[recom_df['Drug_Name'] == medicine].index[0]\n",
    "    distances = vector_similarity[index_med]\n",
    "    recomm_list = sorted(list(enumerate(distances)),reverse=True,key=lambda x:x[1])[1:6]\n",
    "    \n",
    "    for i in recomm_list:\n",
    "        print(recom_df.iloc[i[0]].Drug_Name)\n",
    "    "
   ]
  },
  {
   "cell_type": "code",
   "execution_count": 63,
   "id": "1d96e93a",
   "metadata": {},
   "outputs": [
    {
     "data": {
      "text/plain": [
       "'A Ret 0.05% Gel 20gmA Ret 0.1% Gel 20gmA Ret 0.025% Gel 20gm'"
      ]
     },
     "execution_count": 63,
     "metadata": {},
     "output_type": "execute_result"
    }
   ],
   "source": [
    "recom_df.Drug_Name[1]"
   ]
  },
  {
   "cell_type": "code",
   "execution_count": 68,
   "id": "ca1f8d38",
   "metadata": {},
   "outputs": [
    {
     "name": "stdout",
     "output_type": "stream",
     "text": [
      "Acnesol 1% Solution 25mlAcnesol Gel 20gmAcnesol Solution 45ml\n",
      "Acnil Soap 75gm\n",
      "Adacin Gel 15gm\n",
      "Airol Cream 20gmAirol 0.03% Cream 20gmAirol 0.05% Cream 20gm\n",
      "AP Gel 10gm\n"
     ]
    }
   ],
   "source": [
    "medicine_recommendation(\"Acne UV SPF 30 Gel 30gm\")"
   ]
  },
  {
   "cell_type": "code",
   "execution_count": 67,
   "id": "5cbd8451",
   "metadata": {},
   "outputs": [
    {
     "data": {
      "text/plain": [
       "20    [Acne]\n",
       "Name: Reason, dtype: object"
      ]
     },
     "execution_count": 67,
     "metadata": {},
     "output_type": "execute_result"
    }
   ],
   "source": [
    "data[data[\"Drug_Name\"]==\"Acnesol 1% Solution 25mlAcnesol Gel 20gmAcnesol Solution 45ml\"][\"Reason\"]"
   ]
  },
  {
   "cell_type": "code",
   "execution_count": null,
   "id": "5b5fe38c",
   "metadata": {},
   "outputs": [],
   "source": []
  }
 ],
 "metadata": {
  "kernelspec": {
   "display_name": "Python 3 (ipykernel)",
   "language": "python",
   "name": "python3"
  },
  "language_info": {
   "codemirror_mode": {
    "name": "ipython",
    "version": 3
   },
   "file_extension": ".py",
   "mimetype": "text/x-python",
   "name": "python",
   "nbconvert_exporter": "python",
   "pygments_lexer": "ipython3",
   "version": "3.9.12"
  }
 },
 "nbformat": 4,
 "nbformat_minor": 5
}
